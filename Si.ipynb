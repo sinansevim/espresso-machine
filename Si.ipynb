{
 "cells": [
  {
   "cell_type": "code",
   "execution_count": null,
   "metadata": {},
   "outputs": [],
   "source": [
    "from src import model"
   ]
  },
  {
   "cell_type": "code",
   "execution_count": null,
   "metadata": {},
   "outputs": [],
   "source": [
    "pw = model.pw(project_id=\"Si\")\n",
    "pw.from_poscar(directory=\"Si.poscar\")\n",
    "pw.get_primitive()\n",
    "pw.ecutwfc(80)\n",
    "pw.k_points(6)\n",
    "pw.mixing_mode ='local-TF'"
   ]
  },
  {
   "cell_type": "code",
   "execution_count": null,
   "metadata": {},
   "outputs": [],
   "source": [
    "for calculation in ['vc-relax','scf']:\n",
    "    pw.set_calculation(calculation_type=calculation)\n",
    "    pw.create_input()\n",
    "    pw.calculate(num_core=8)"
   ]
  },
  {
   "cell_type": "code",
   "execution_count": null,
   "metadata": {},
   "outputs": [],
   "source": [
    "pw.set_calculation(calculation_type='bands')\n",
    "points = pw.get_points()\n",
    "path = ['L','GAMMA','X','K','GAMMA']\n",
    "pw.band_points(path,points,20)\n",
    "pw.create_input()\n",
    "pw.calculate(num_core=8)\n",
    "pw.set_calculation('bands-pp')\n",
    "pw.create_input()\n",
    "pw.calculate(num_core=1)\n",
    "pw.plot_electron(ylim=[-5,5],save=True)"
   ]
  }
 ],
 "metadata": {
  "kernelspec": {
   "display_name": "Python 3",
   "language": "python",
   "name": "python3"
  },
  "language_info": {
   "codemirror_mode": {
    "name": "ipython",
    "version": 3
   },
   "file_extension": ".py",
   "mimetype": "text/x-python",
   "name": "python",
   "nbconvert_exporter": "python",
   "pygments_lexer": "ipython3",
   "version": "2.7.5"
  }
 },
 "nbformat": 4,
 "nbformat_minor": 2
}
