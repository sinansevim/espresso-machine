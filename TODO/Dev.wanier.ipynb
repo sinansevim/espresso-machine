{
 "cells": [
  {
   "cell_type": "code",
   "execution_count": 1,
   "metadata": {},
   "outputs": [],
   "source": [
    "from src import espresso_machine as esma"
   ]
  },
  {
   "cell_type": "code",
   "execution_count": 6,
   "metadata": {},
   "outputs": [],
   "source": [
    "#Step 1 - Initialize model\n",
    "model = esma.project(project_id=\"TiSe2\") #Define project\n",
    "model.set_cores(128) #Define number of prcessing cores\n",
    "model.get_structure(format='poscar',name=\"TiSe2.poscar\",path='./Research/2D_Materials/Structure/') #Load structure\n",
    "model.set_pseudo(path='./Research/2D_Materials/PP/PBE/US/')"
   ]
  },
  {
   "cell_type": "code",
   "execution_count": 7,
   "metadata": {},
   "outputs": [],
   "source": [
    "#Adjust Parameters\n",
    "model.ecutwfc(100) #Set wavefunction cutoff\n",
    "model.ecutrho(800) #Set wavefunction cutoff\n",
    "model.k_points([24,24,1]) #Set number of k points\n",
    "model.degauss(0.02) #Set degauss value\n",
    "model.conv_thr(1e-12) #Set convergence threshold\n",
    "model.ph_thr(1e-16) #Set convergence threshold\n",
    "model.smearing('fd') #Marzari-Vanderbilt smearing\n",
    "model.etot_conv_thr(10**-7) #Energy convergence threshold for optimization\n",
    "model.forc_conv_thr(10**-6) #Force optimization threshold\n",
    "model.electron_maxstep(500) #Max number of electron iteration\n",
    "model.exchange_maxstep(500) #Max number of exchange iteration\n",
    "model.mixing_beta(0.1)      #SCF cycle potential mixing value\n",
    "\n",
    "model.stress()  #Print stress out\n",
    "model.force()   #Print forces out"
   ]
  },
  {
   "cell_type": "code",
   "execution_count": 9,
   "metadata": {},
   "outputs": [
    {
     "name": "stdout",
     "output_type": "stream",
     "text": [
      "scf for results is started\n",
      "scf for results is finished\n"
     ]
    }
   ],
   "source": [
    "model.calculate('scf')"
   ]
  },
  {
   "cell_type": "code",
   "execution_count": 10,
   "metadata": {},
   "outputs": [],
   "source": [
    "model.export_structure()"
   ]
  },
  {
   "cell_type": "code",
   "execution_count": null,
   "metadata": {},
   "outputs": [],
   "source": [
    "model.cell_dof('2Dxy') #Fix cell relaxation to 2D\n"
   ]
  }
 ],
 "metadata": {
  "kernelspec": {
   "display_name": ".venv",
   "language": "python",
   "name": "python3"
  },
  "language_info": {
   "codemirror_mode": {
    "name": "ipython",
    "version": 3
   },
   "file_extension": ".py",
   "mimetype": "text/x-python",
   "name": "python",
   "nbconvert_exporter": "python",
   "pygments_lexer": "ipython3",
   "version": "3.11.5"
  },
  "orig_nbformat": 4
 },
 "nbformat": 4,
 "nbformat_minor": 2
}
