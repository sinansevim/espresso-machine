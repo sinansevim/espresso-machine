{
 "cells": [
  {
   "cell_type": "code",
   "execution_count": null,
   "metadata": {},
   "outputs": [],
   "source": [
    "import src as esma #Import library"
   ]
  },
  {
   "cell_type": "code",
   "execution_count": null,
   "metadata": {},
   "outputs": [],
   "source": [
    "model = esma.project(project_id='FeO')"
   ]
  },
  {
   "cell_type": "code",
   "execution_count": null,
   "metadata": {},
   "outputs": [],
   "source": [
    "model.get_structure(format='poscar')\n",
    "model.set_pseudo(\"US\")\n",
    "model.set_cores(8)\n",
    "model.ecutwfc(70) #Set wavefunction cutoff\n",
    "model.k_points(6) #Set number of k points\n",
    "model.degauss(0.02) #Set degauss value\n",
    "model.conv_thr(1e-6) #Set convergence threshold\n",
    "model.set_pseudo(\"US\")\n",
    "model.ecutrho(300)  "
   ]
  },
  {
   "cell_type": "code",
   "execution_count": null,
   "metadata": {},
   "outputs": [],
   "source": [
    "model.hubbard(atom='Fe',orbital='3d',value=4.6)"
   ]
  },
  {
   "cell_type": "code",
   "execution_count": null,
   "metadata": {},
   "outputs": [],
   "source": [
    "models = model.magnetise(magnetic_atom='Fe')"
   ]
  },
  {
   "cell_type": "code",
   "execution_count": null,
   "metadata": {},
   "outputs": [],
   "source": [
    "for i,state in enumerate(models):\n",
    "    #Adjust parameters\n",
    "    state.calculate('vc-relax')\n",
    "    state.get_structure('vc-relax') #Get vc-relaxed strucutre\n",
    "    state.calculate('scf')"
   ]
  },
  {
   "cell_type": "code",
   "execution_count": null,
   "metadata": {},
   "outputs": [],
   "source": [
    "ground_state = esma.minimum_energy(models)"
   ]
  },
  {
   "cell_type": "code",
   "execution_count": null,
   "metadata": {},
   "outputs": [],
   "source": [
    "ground_state.occupations('tetrahedra')\n",
    "ground_state.k_points(12)\n",
    "ground_state.calculate('nscf')\n",
    "ground_state.pdos(emin=-20,emax=30)\n",
    "ground_state.calculate('pdos')\n",
    "ground_state.plot('pdos',xlim=[3,20]) #plot dos"
   ]
  },
  {
   "cell_type": "code",
   "execution_count": null,
   "metadata": {},
   "outputs": [],
   "source": [
    "ground_state.plot('pdos',xlim=[3,20]) #plot dos"
   ]
  },
  {
   "cell_type": "code",
   "execution_count": null,
   "metadata": {},
   "outputs": [],
   "source": []
  }
 ],
 "metadata": {
  "kernelspec": {
   "display_name": ".venv",
   "language": "python",
   "name": "python3"
  },
  "language_info": {
   "codemirror_mode": {
    "name": "ipython",
    "version": 3
   },
   "file_extension": ".py",
   "mimetype": "text/x-python",
   "name": "python",
   "nbconvert_exporter": "python",
   "pygments_lexer": "ipython3",
   "version": "3.10.12"
  }
 },
 "nbformat": 4,
 "nbformat_minor": 2
}
