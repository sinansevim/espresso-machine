{
 "cells": [
  {
   "cell_type": "code",
   "execution_count": null,
   "metadata": {},
   "outputs": [],
   "source": [
    "import src as esma #Import library\n",
    "num_core = 8 #Define number of cores"
   ]
  },
  {
   "cell_type": "code",
   "execution_count": null,
   "metadata": {},
   "outputs": [],
   "source": [
    "#Init model\n",
    "model = esma.pw(project_id=\"NbSe2\") #Initialize model\n",
    "model.get_structure(format='poscar') #Load structure\n",
    "#&System\n",
    "model.ecutwfc(80) #Wavefunction cut-off\n",
    "model.k_points(4) #k mesh \n",
    "model.degauss(0.01) #degauss value\n",
    "model.smearing = 'fd' #semearing type\n",
    "#&Electrons\n",
    "model.conv_thr(\"1e-6\") #electron convergence threshold\n",
    "model.mixing_mode ='local-TF'#mixing mode\n"
   ]
  },
  {
   "cell_type": "code",
   "execution_count": null,
   "metadata": {},
   "outputs": [],
   "source": [
    "#Define data workflow\n",
    "\n",
    "#vc-relax\n",
    "model.vc_relax(num_core) #Crystal optimization\n",
    "model.get_structure('vc-relax') #Get vc-relax strucutre\n",
    "\n",
    "#relax\n",
    "model.make_layer('mono')#make mono layer \n",
    "model.relax(num_core) #Atomic optimization\n",
    "model.get_structure('relax') #Get relax strucutre\n",
    "\n",
    "#scf\n",
    "model.scf(num_core) #Scf calculation\n",
    "\n",
    "#band\n",
    "path = ['GAMMA','M','K','GAMMA'] #choose high-symmetry points\n",
    "model.bands(path=path,num_points=40, num_core=num_core) #Band calculation\n",
    "\n",
    "#plotting\n",
    "model.plot_electron(ylim=[-5,5],save=True) #plot electron bands"
   ]
  }
 ],
 "metadata": {
  "kernelspec": {
   "display_name": "Python 3",
   "language": "python",
   "name": "python3"
  },
  "language_info": {
   "codemirror_mode": {
    "name": "ipython",
    "version": 3
   },
   "file_extension": ".py",
   "mimetype": "text/x-python",
   "name": "python",
   "nbconvert_exporter": "python",
   "pygments_lexer": "ipython3",
   "version": "3.10.12"
  }
 },
 "nbformat": 4,
 "nbformat_minor": 2
}
