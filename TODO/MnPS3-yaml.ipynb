{
 "cells": [
  {
   "cell_type": "code",
   "execution_count": 1,
   "metadata": {},
   "outputs": [],
   "source": [
    "import src as esma #Import library\n",
    "num_core = 60 #Define number of cores"
   ]
  },
  {
   "cell_type": "code",
   "execution_count": 3,
   "metadata": {},
   "outputs": [],
   "source": [
    "model = esma.pw(project_id='MnPS3')"
   ]
  },
  {
   "cell_type": "code",
   "execution_count": 4,
   "metadata": {},
   "outputs": [],
   "source": [
    "model.get_structure(format='poscar')"
   ]
  },
  {
   "cell_type": "code",
   "execution_count": 5,
   "metadata": {},
   "outputs": [],
   "source": [
    "model.ecutwfc(80) #Set wavefunction cutoff\n",
    "model.config['system']['ecutrho']=640\n",
    "model.k_points(5) #Set number of k points\n",
    "model.degauss(0.01) #Set degauss value\n",
    "model.conv_thr(1e-6) #Set convergence threshold\n",
    "model.set_pseudo(\"US\")"
   ]
  },
  {
   "cell_type": "code",
   "execution_count": 6,
   "metadata": {},
   "outputs": [
    {
     "name": "stdout",
     "output_type": "stream",
     "text": [
      "control:\n",
      "  pseudo_dir: ./pseudos/US/\n",
      "system:\n",
      "  degauss: 0.01\n",
      "  ecutwfc: 80\n",
      "  occupations: smearing\n",
      "  ecutrho: 640\n",
      "electrons:\n",
      "  conv_thr: 1.0e-06\n",
      "ions: {}\n",
      "cell: {}\n",
      "k_points: 5 5 5 0 0 0\n",
      "hubbard:\n",
      "- projection: ortho-atomic\n",
      "- - type: U\n",
      "    atom: Mn\n",
      "    orbital: 3d\n",
      "    value: '5.0'\n",
      "cell_parameters:\n",
      "- - '0.0000000000000000'\n",
      "  - '6.0762183003507690'\n",
      "  - '0.0000000000000000'\n",
      "- - '10.5146075380287503'\n",
      "  - '0.0000000000000000'\n",
      "  - '0.0000000000000000'\n",
      "- - '0.0000000000000000'\n",
      "  - '-2.0006915253003887'\n",
      "  - '-6.7631523133012603'\n",
      "atomic_positions:\n",
      "- - Mn\n",
      "  - '0.5000000000000000'\n",
      "  - '0.8332288600000000'\n",
      "  - '0.0000000000000000'\n",
      "- - Mn\n",
      "  - '0.5000000000000000'\n",
      "  - '0.1667711400000000'\n",
      "  - '0.0000000000000000'\n",
      "- - Mn\n",
      "  - '0.0000000000000000'\n",
      "  - '0.3332288600000000'\n",
      "  - '0.0000000000000000'\n",
      "- - Mn\n",
      "  - '0.0000000000000000'\n",
      "  - '0.6667711400000000'\n",
      "  - '0.0000000000000000'\n",
      "- - P\n",
      "  - '0.9462283699999997'\n",
      "  - '0.0000000000000000'\n",
      "  - '0.8377950799999999'\n",
      "- - P\n",
      "  - '0.0537716300000003'\n",
      "  - '0.0000000000000000'\n",
      "  - '0.1622049200000001'\n",
      "- - P\n",
      "  - '0.4462283699999997'\n",
      "  - '0.5000000000000000'\n",
      "  - '0.8377950799999999'\n",
      "- - P\n",
      "  - '0.5537716300000004'\n",
      "  - '0.5000000000000000'\n",
      "  - '0.1622049200000001'\n",
      "- - S\n",
      "  - '0.7594597649999998'\n",
      "  - '0.1613180650000000'\n",
      "  - '0.7608981299999998'\n",
      "- - S\n",
      "  - '0.2405402350000002'\n",
      "  - '0.1613180650000000'\n",
      "  - '0.2391018700000002'\n",
      "- - S\n",
      "  - '0.7564207099999999'\n",
      "  - '0.0000000000000000'\n",
      "  - '0.2390717399999999'\n",
      "- - S\n",
      "  - '0.2435792900000001'\n",
      "  - '0.0000000000000000'\n",
      "  - '0.7609282600000001'\n",
      "- - S\n",
      "  - '0.2405402350000002'\n",
      "  - '0.8386819350000000'\n",
      "  - '0.2391018700000002'\n",
      "- - S\n",
      "  - '0.7594597649999998'\n",
      "  - '0.8386819350000000'\n",
      "  - '0.7608981299999998'\n",
      "- - S\n",
      "  - '0.2594597649999998'\n",
      "  - '0.6613180650000001'\n",
      "  - '0.7608981299999998'\n",
      "- - S\n",
      "  - '0.7405402350000001'\n",
      "  - '0.6613180650000001'\n",
      "  - '0.2391018700000002'\n",
      "- - S\n",
      "  - '0.2564207099999999'\n",
      "  - '0.5000000000000000'\n",
      "  - '0.2390717399999999'\n",
      "- - S\n",
      "  - '0.7435792900000000'\n",
      "  - '0.5000000000000000'\n",
      "  - '0.7609282600000001'\n",
      "- - S\n",
      "  - '0.7405402350000001'\n",
      "  - '0.3386819350000000'\n",
      "  - '0.2391018700000002'\n",
      "- - S\n",
      "  - '0.2594597649999998'\n",
      "  - '0.3386819350000000'\n",
      "  - '0.7608981299999998'\n",
      "atomic_species:\n",
      "- atom: S\n",
      "  mass: '31.9720711744'\n",
      "  pseudopotential: S.UPF\n",
      "- atom: P\n",
      "  mass: '30.97376199842'\n",
      "  pseudopotential: P.UPF\n",
      "- atom: Mn\n",
      "  mass: '54.93804391'\n",
      "  pseudopotential: Mn.UPF\n",
      "\n"
     ]
    }
   ],
   "source": [
    "print(yaml.dump(model.config,sort_keys=False))"
   ]
  },
  {
   "cell_type": "code",
   "execution_count": 7,
   "metadata": {},
   "outputs": [
    {
     "data": {
      "text/plain": [
       "{'control': {'pseudo_dir': './pseudos/US/'},\n",
       " 'system': {'degauss': 0.01,\n",
       "  'ecutwfc': 80,\n",
       "  'occupations': 'smearing',\n",
       "  'ecutrho': 640},\n",
       " 'electrons': {'conv_thr': 1e-06},\n",
       " 'ions': {},\n",
       " 'cell': {},\n",
       " 'k_points': '5 5 5 0 0 0',\n",
       " 'hubbard': [{'projection': 'ortho-atomic'},\n",
       "  [{'type': 'U', 'atom': 'Mn', 'orbital': '3d', 'value': '5.0'}]],\n",
       " 'cell_parameters': [['0.0000000000000000',\n",
       "   '6.0762183003507690',\n",
       "   '0.0000000000000000'],\n",
       "  ['10.5146075380287503', '0.0000000000000000', '0.0000000000000000'],\n",
       "  ['0.0000000000000000', '-2.0006915253003887', '-6.7631523133012603']],\n",
       " 'atomic_positions': [['Mn',\n",
       "   '0.5000000000000000',\n",
       "   '0.8332288600000000',\n",
       "   '0.0000000000000000'],\n",
       "  ['Mn', '0.5000000000000000', '0.1667711400000000', '0.0000000000000000'],\n",
       "  ['Mn', '0.0000000000000000', '0.3332288600000000', '0.0000000000000000'],\n",
       "  ['Mn', '0.0000000000000000', '0.6667711400000000', '0.0000000000000000'],\n",
       "  ['P', '0.9462283699999997', '0.0000000000000000', '0.8377950799999999'],\n",
       "  ['P', '0.0537716300000003', '0.0000000000000000', '0.1622049200000001'],\n",
       "  ['P', '0.4462283699999997', '0.5000000000000000', '0.8377950799999999'],\n",
       "  ['P', '0.5537716300000004', '0.5000000000000000', '0.1622049200000001'],\n",
       "  ['S', '0.7594597649999998', '0.1613180650000000', '0.7608981299999998'],\n",
       "  ['S', '0.2405402350000002', '0.1613180650000000', '0.2391018700000002'],\n",
       "  ['S', '0.7564207099999999', '0.0000000000000000', '0.2390717399999999'],\n",
       "  ['S', '0.2435792900000001', '0.0000000000000000', '0.7609282600000001'],\n",
       "  ['S', '0.2405402350000002', '0.8386819350000000', '0.2391018700000002'],\n",
       "  ['S', '0.7594597649999998', '0.8386819350000000', '0.7608981299999998'],\n",
       "  ['S', '0.2594597649999998', '0.6613180650000001', '0.7608981299999998'],\n",
       "  ['S', '0.7405402350000001', '0.6613180650000001', '0.2391018700000002'],\n",
       "  ['S', '0.2564207099999999', '0.5000000000000000', '0.2390717399999999'],\n",
       "  ['S', '0.7435792900000000', '0.5000000000000000', '0.7609282600000001'],\n",
       "  ['S', '0.7405402350000001', '0.3386819350000000', '0.2391018700000002'],\n",
       "  ['S', '0.2594597649999998', '0.3386819350000000', '0.7608981299999998']],\n",
       " 'atomic_species': [{'atom': 'S',\n",
       "   'mass': '31.9720711744',\n",
       "   'pseudopotential': 'S.UPF'},\n",
       "  {'atom': 'P', 'mass': '30.97376199842', 'pseudopotential': 'P.UPF'},\n",
       "  {'atom': 'Mn', 'mass': '54.93804391', 'pseudopotential': 'Mn.UPF'}]}"
      ]
     },
     "execution_count": 7,
     "metadata": {},
     "output_type": "execute_result"
    }
   ],
   "source": [
    "model.config"
   ]
  },
  {
   "cell_type": "code",
   "execution_count": 10,
   "metadata": {},
   "outputs": [],
   "source": [
    "afm_models = model.make_afm('Mn',angle1=90)"
   ]
  },
  {
   "cell_type": "code",
   "execution_count": 12,
   "metadata": {
    "vscode": {
     "languageId": "shellscript"
    }
   },
   "outputs": [
    {
     "data": {
      "text/plain": [
       "<src.pw.pw at 0x7622c9ad4670>"
      ]
     },
     "execution_count": 12,
     "metadata": {},
     "output_type": "execute_result"
    }
   ],
   "source": [
    "afm_models[0]"
   ]
  },
  {
   "cell_type": "code",
   "execution_count": 9,
   "metadata": {
    "vscode": {
     "languageId": "shellscript"
    }
   },
   "outputs": [],
   "source": [
    "# energies=[]\n",
    "# for j,state in enumerate(afm_models):\n",
    "#     state.job_id=f\"afm_{j}\"\n",
    "#     state.vc_relax(num_core)\n",
    "#     state.get_structure(format='vc-relax')\n",
    "#     state.scf(num_core)\n",
    "#     energies.append(state.energy())"
   ]
  },
  {
   "cell_type": "code",
   "execution_count": null,
   "metadata": {
    "vscode": {
     "languageId": "shellscript"
    }
   },
   "outputs": [],
   "source": []
  }
 ],
 "metadata": {
  "kernelspec": {
   "display_name": "Python 3",
   "language": "python",
   "name": "python3"
  },
  "language_info": {
   "codemirror_mode": {
    "name": "ipython",
    "version": 3
   },
   "file_extension": ".py",
   "mimetype": "text/x-python",
   "name": "python",
   "nbconvert_exporter": "python",
   "pygments_lexer": "ipython3",
   "version": "3.10.12"
  }
 },
 "nbformat": 4,
 "nbformat_minor": 2
}
