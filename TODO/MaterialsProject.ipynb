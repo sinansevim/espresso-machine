{
 "cells": [
  {
   "cell_type": "code",
   "execution_count": 1,
   "metadata": {},
   "outputs": [],
   "source": [
    "from dotenv import dotenv_values\n",
    "from mp_api.client import MPRester\n",
    "from src import reads\n",
    "from src import model"
   ]
  },
  {
   "cell_type": "code",
   "execution_count": 2,
   "metadata": {},
   "outputs": [],
   "source": [
    "env = config = dotenv_values(\".env\") \n",
    "mpAPI=env['mpAPI']"
   ]
  },
  {
   "cell_type": "code",
   "execution_count": 26,
   "metadata": {},
   "outputs": [
    {
     "data": {
      "application/vnd.jupyter.widget-view+json": {
       "model_id": "0de996fc9ca840b2be91253236309626",
       "version_major": 2,
       "version_minor": 0
      },
      "text/plain": [
       "Retrieving SummaryDoc documents:   0%|          | 0/157 [00:00<?, ?it/s]"
      ]
     },
     "metadata": {},
     "output_type": "display_data"
    }
   ],
   "source": [
    "with MPRester(mpAPI) as mpr:\n",
    "      docs = mpr.materials.summary.search(spacegroup_number=194,num_elements=2,num_sites=6,)"
   ]
  },
  {
   "cell_type": "code",
   "execution_count": 11,
   "metadata": {},
   "outputs": [
    {
     "name": "stdout",
     "output_type": "stream",
     "text": [
      "BPt2\n",
      "BaF2\n",
      "BaH2\n",
      "BaTl2\n",
      "BiO2\n",
      "BiO2\n",
      "Ca2Mg\n",
      "CaGa2\n",
      "CaGa2\n",
      "CaH2\n",
      "CaIn2\n",
      "CaIn2\n",
      "CaMg2\n",
      "Ce2In\n",
      "Ce2Mg\n",
      "CeMg2\n",
      "CeO2\n",
      "CeSe2\n",
      "CeSe2\n",
      "CeSe2\n",
      "CeSe2\n",
      "Co2Ge\n",
      "Co2Sn\n",
      "CoO2\n",
      "CrO2\n",
      "Cs2Pt\n",
      "Cs2S\n",
      "Cs2Se\n",
      "Cu2S\n",
      "Dy2In\n",
      "Dy2Tl\n",
      "Er2In\n",
      "ErH2\n",
      "EuH2\n",
      "EuIn2\n",
      "EuTl2\n",
      "Fe2Ge\n",
      "Fe2Sn\n",
      "FeO2\n",
      "FeO2\n",
      "GaNi2\n",
      "Gd2In\n",
      "Gd2Tl\n",
      "Hf2S\n",
      "Hf2Se\n",
      "HfN2\n",
      "Ho2In\n",
      "In2Bi\n",
      "In2Cu\n",
      "In2Sb\n",
      "InCu2\n",
      "InNi2\n",
      "IrN2\n",
      "K2S\n",
      "K2Zr\n",
      "La2In\n",
      "LaBr2\n",
      "Li2Mg\n",
      "Li2S\n",
      "LiMg2\n",
      "Lu2In\n",
      "Mg2Cd\n",
      "Mg2Ga\n",
      "Mg2Ge\n",
      "Mg2Sb\n",
      "Mg2Si\n",
      "Mg2Sn\n",
      "Mg2Sn\n",
      "Mg2Ti\n",
      "Mg2Zn\n",
      "MgCd2\n",
      "MgGa2\n",
      "MgGa2\n",
      "MgPb2\n",
      "MgSn2\n",
      "MgZn2\n",
      "Mn2Ge\n",
      "Mn2Sb\n",
      "Mn2Sn\n",
      "MoO2\n",
      "MoO2\n",
      "MoS2\n",
      "MoS2\n",
      "MoSe2\n",
      "MoSe2\n",
      "Na2S\n",
      "NbO2\n",
      "NbS2\n",
      "NbS2\n",
      "NbS2\n",
      "NbSe2\n",
      "NbSe2\n",
      "Nd2In\n",
      "Nd2Tl\n",
      "Ni2Ge\n",
      "NiO2\n",
      "NiS2\n",
      "OsC2\n",
      "OsN2\n",
      "Pr2In\n",
      "Pr2Tl\n",
      "PtN2\n",
      "Rb2S\n",
      "Re2C\n",
      "Re2N\n",
      "ReB2\n",
      "ReC2\n",
      "ReC2\n",
      "ReN2\n",
      "SbO2\n",
      "SbO2\n",
      "Sc2Al\n",
      "Sc2In\n",
      "SiIr2\n",
      "SiNi2\n",
      "Sm2In\n",
      "Sm2Tl\n",
      "SnO2\n",
      "SnO2\n",
      "Sr2Mg\n",
      "Sr2Si\n",
      "SrF2\n",
      "SrH2\n",
      "SrIn2\n",
      "SrMg2\n",
      "SrTl2\n",
      "TaN2\n",
      "TaS2\n",
      "TaS2\n",
      "TaSe2\n",
      "TaSe2\n",
      "Tb2In\n",
      "Tb2Tl\n",
      "Tc2N\n",
      "TcB2\n",
      "Te2Mo\n",
      "Te2W\n",
      "ThHg2\n",
      "ThRh2\n",
      "Ti2Ga\n",
      "Ti2Sn\n",
      "TiO2\n",
      "TiS2\n",
      "TiS2\n",
      "Tm2In\n",
      "V2C\n",
      "VO2\n",
      "VO2\n",
      "VS2\n",
      "VS2\n",
      "WN2\n",
      "WO2\n",
      "WS2\n",
      "WSe2\n",
      "Y2In\n",
      "YMg2\n",
      "Zr2Al\n"
     ]
    }
   ],
   "source": [
    "for i in docs:\n",
    "    print(i.formula_pretty)"
   ]
  },
  {
   "cell_type": "code",
   "execution_count": 12,
   "metadata": {},
   "outputs": [
    {
     "ename": "AttributeError",
     "evalue": "'list' object has no attribute 'pretty_formula'",
     "output_type": "error",
     "traceback": [
      "\u001b[0;31m---------------------------------------------------------------------------\u001b[0m",
      "\u001b[0;31mAttributeError\u001b[0m                            Traceback (most recent call last)",
      "Cell \u001b[0;32mIn[12], line 1\u001b[0m\n\u001b[0;32m----> 1\u001b[0m \u001b[38;5;28mprint\u001b[39m(\u001b[43mdocs\u001b[49m\u001b[38;5;241;43m.\u001b[39;49m\u001b[43mpretty_formula\u001b[49m)\n",
      "\u001b[0;31mAttributeError\u001b[0m: 'list' object has no attribute 'pretty_formula'"
     ]
    }
   ],
   "source": [
    "print(docs.pretty_formula)"
   ]
  },
  {
   "cell_type": "code",
   "execution_count": 16,
   "metadata": {},
   "outputs": [],
   "source": [
    "dat = docs[0].structure.to_json()"
   ]
  },
  {
   "cell_type": "code",
   "execution_count": 17,
   "metadata": {},
   "outputs": [],
   "source": [
    "pw = model.pw('mp')"
   ]
  },
  {
   "cell_type": "code",
   "execution_count": 18,
   "metadata": {},
   "outputs": [],
   "source": [
    "pw.from_json(dat)"
   ]
  },
  {
   "cell_type": "code",
   "execution_count": 22,
   "metadata": {},
   "outputs": [],
   "source": [
    "pw.config['atomic_positions'][0][0]='A'"
   ]
  },
  {
   "cell_type": "code",
   "execution_count": 29,
   "metadata": {},
   "outputs": [
    {
     "name": "stdout",
     "output_type": "stream",
     "text": [
      "{'control': {'pseudo_dir': './pseudos/'}, 'system': {'degauss': '0.1', 'ecutwfc': '20', 'occupations': 'smearing'}, 'electrons': {'conv_thr': '1e-6'}, 'ions': {}, 'cell': {}, 'k_points': '1 1 1 0 0 0', 'atomic_positions': [['Fe', '0.333333', '0.666667', '0.25'], ['Fe', '0.666667', '0.333333', '0.75'], ['Pt', '0.333333', '0.666667', '0.88379429'], ['Pt', '0.666667', '0.333333', '0.11620571'], ['Pt', '0.666667', '0.333333', '0.38379429'], ['Pt', '0.333333', '0.666667', '0.61620571']], 'cell_parameters': array([['1.46415609', '-2.53599302', '-0.0'],\n",
      "       ['1.46415609', '2.53599302', '0.0'],\n",
      "       ['0.0', '-0.0', '10.35721584']], dtype='<U11')}\n",
      "{'control': {'pseudo_dir': './pseudos/'}, 'system': {'degauss': '0.1', 'ecutwfc': '20', 'occupations': 'smearing'}, 'electrons': {'conv_thr': '1e-6'}, 'ions': {}, 'cell': {}, 'k_points': '1 1 1 0 0 0', 'atomic_positions': [['Mn', '0.333333', '0.666667', '0.25'], ['Mn', '0.666667', '0.333333', '0.75'], ['Pt', '0.333333', '0.666667', '0.88379429'], ['Pt', '0.666667', '0.333333', '0.11620571'], ['Pt', '0.666667', '0.333333', '0.38379429'], ['Pt', '0.333333', '0.666667', '0.61620571']], 'cell_parameters': array([['1.46415609', '-2.53599302', '-0.0'],\n",
      "       ['1.46415609', '2.53599302', '0.0'],\n",
      "       ['0.0', '-0.0', '10.35721584']], dtype='<U11')}\n",
      "{'control': {'pseudo_dir': './pseudos/'}, 'system': {'degauss': '0.1', 'ecutwfc': '20', 'occupations': 'smearing'}, 'electrons': {'conv_thr': '1e-6'}, 'ions': {}, 'cell': {}, 'k_points': '1 1 1 0 0 0', 'atomic_positions': [['Co', '0.333333', '0.666667', '0.25'], ['Co', '0.666667', '0.333333', '0.75'], ['Pt', '0.333333', '0.666667', '0.88379429'], ['Pt', '0.666667', '0.333333', '0.11620571'], ['Pt', '0.666667', '0.333333', '0.38379429'], ['Pt', '0.333333', '0.666667', '0.61620571']], 'cell_parameters': array([['1.46415609', '-2.53599302', '-0.0'],\n",
      "       ['1.46415609', '2.53599302', '0.0'],\n",
      "       ['0.0', '-0.0', '10.35721584']], dtype='<U11')}\n",
      "{'control': {'pseudo_dir': './pseudos/'}, 'system': {'degauss': '0.1', 'ecutwfc': '20', 'occupations': 'smearing'}, 'electrons': {'conv_thr': '1e-6'}, 'ions': {}, 'cell': {}, 'k_points': '1 1 1 0 0 0', 'atomic_positions': [['Ni', '0.333333', '0.666667', '0.25'], ['Ni', '0.666667', '0.333333', '0.75'], ['Pt', '0.333333', '0.666667', '0.88379429'], ['Pt', '0.666667', '0.333333', '0.11620571'], ['Pt', '0.666667', '0.333333', '0.38379429'], ['Pt', '0.333333', '0.666667', '0.61620571']], 'cell_parameters': array([['1.46415609', '-2.53599302', '-0.0'],\n",
      "       ['1.46415609', '2.53599302', '0.0'],\n",
      "       ['0.0', '-0.0', '10.35721584']], dtype='<U11')}\n"
     ]
    }
   ],
   "source": [
    "for i in ['Fe','Mn','Co','Ni']:\n",
    "    pw.config['atomic_positions'][0][0]=f'{i}'\n",
    "    pw.config['atomic_positions'][1][0]=f'{i}'\n",
    "    pw.calculate_something()"
   ]
  },
  {
   "cell_type": "code",
   "execution_count": null,
   "metadata": {},
   "outputs": [],
   "source": []
  },
  {
   "cell_type": "code",
   "execution_count": 25,
   "metadata": {},
   "outputs": [
    {
     "data": {
      "application/vnd.jupyter.widget-view+json": {
       "model_id": "976c0bd97336413ea1d288bc13012504",
       "version_major": 2,
       "version_minor": 0
      },
      "text/plain": [
       "Retrieving SummaryDoc documents:   0%|          | 0/97 [00:00<?, ?it/s]"
      ]
     },
     "metadata": {},
     "output_type": "display_data"
    }
   ],
   "source": [
    "with MPRester(mpAPI) as mpr:\n",
    "      docs = mpr.materials.summary.search(spacegroup_number=12,num_elements=3,num_sites=20)"
   ]
  },
  {
   "cell_type": "code",
   "execution_count": 6,
   "metadata": {},
   "outputs": [
    {
     "name": "stdout",
     "output_type": "stream",
     "text": [
      "Al2Fe3F15\n",
      "Al2PO7\n",
      "Al2VO7\n",
      "BaCoO3\n",
      "BaMn3O6\n",
      "Ca2Fe7O11\n",
      "Ce2Fe17C\n",
      "Cl(OF)2\n",
      "Co(HO)2\n",
      "Cs3Li2I5\n",
      "CuNi4O5\n",
      "Dy2Fe17C\n",
      "DyMgSe3\n",
      "Er(PO2)3\n",
      "Er2Fe17C\n",
      "Fe(HO)2\n",
      "FeP2O7\n",
      "FePS3\n",
      "Gd2Fe17C\n",
      "Hg2AsCl2\n",
      "Ho2Fe17C\n",
      "Ho8(AlGe3)3\n",
      "La7Os4C9\n",
      "LaMgS3\n",
      "LaMn7O12\n",
      "LaMnO3\n",
      "Li(CoO2)3\n",
      "Li(CoO2)3\n",
      "Li(NiO2)3\n",
      "Li2CrO2\n",
      "Li2CrO2\n",
      "Li2CrO2\n",
      "Li2FeO2\n",
      "Li2MnO2\n",
      "Li2Ta3N5\n",
      "Li3Co2O5\n",
      "Li3Co2O5\n",
      "Li3Co2O5\n",
      "Li3Co2O5\n",
      "Li3Co2O5\n",
      "Li3Co2O5\n",
      "Li3Co2O5\n",
      "Li3Mn2O5\n",
      "Li3Mn2O5\n",
      "Li3Mn2O5\n",
      "Li3Mn2O5\n",
      "Li3Mn2O5\n",
      "Li3Mn2O5\n",
      "Li3Mn2O5\n",
      "LiFeF3\n",
      "LiMnF3\n",
      "LuMgSe3\n",
      "Mg3Si4O13\n",
      "Mg4FeO5\n",
      "Mg9CuO10\n",
      "MgInSe3\n",
      "Mn(HO)2\n",
      "Mn2Cd3O5\n",
      "Mn7BiO12\n",
      "Mn9CdO10\n",
      "Mn9FeO10\n",
      "MnCo9O10\n",
      "MnGaNi2\n",
      "MnP2O7\n",
      "Na(CoO2)3\n",
      "Na(CoO2)3\n",
      "Na2MnO2\n",
      "Na3Pd5F12\n",
      "Na5Hf2F13\n",
      "Na5Zr2F13\n",
      "Na5Zr2F13\n",
      "NbCuO3\n",
      "Nd2Fe17C\n",
      "NdMgS3\n",
      "PmMgSe3\n",
      "PrMgS3\n",
      "PrMn7O12\n",
      "RbNbO3\n",
      "RbTaO3\n",
      "Sm10Sb3Se7\n",
      "Sm2Fe17C\n",
      "Sm2Fe17N\n",
      "SmMgSe3\n",
      "Ta2NiSe7\n",
      "Ta2PtSe7\n",
      "TaCuO3\n",
      "Tb2Fe17C\n",
      "TbMgSe3\n",
      "Th2Fe17C\n",
      "ThTa2O7\n",
      "Ti2N2O\n",
      "TmMgS3\n",
      "Y2Co17C\n",
      "Y2Fe17C\n",
      "YMgS3\n",
      "ZnNi4O5\n",
      "Zr2N2O\n"
     ]
    }
   ],
   "source": [
    "for i in docs:\n",
    "    print(i.formula_pretty)\n",
    "    # print(i.structure)"
   ]
  },
  {
   "cell_type": "code",
   "execution_count": null,
   "metadata": {},
   "outputs": [],
   "source": []
  }
 ],
 "metadata": {
  "kernelspec": {
   "display_name": "Python 3",
   "language": "python",
   "name": "python3"
  },
  "language_info": {
   "codemirror_mode": {
    "name": "ipython",
    "version": 3
   },
   "file_extension": ".py",
   "mimetype": "text/x-python",
   "name": "python",
   "nbconvert_exporter": "python",
   "pygments_lexer": "ipython3",
   "version": "3.10.12"
  }
 },
 "nbformat": 4,
 "nbformat_minor": 2
}
