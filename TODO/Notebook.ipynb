{
 "cells": [
  {
   "cell_type": "code",
   "execution_count": null,
   "metadata": {},
   "outputs": [],
   "source": [
    "import numpy as np\n",
    "import matplotlib.pyplot as plt\n",
    "from src import model\n",
    "from src import kpoints"
   ]
  },
  {
   "cell_type": "code",
   "execution_count": null,
   "metadata": {},
   "outputs": [],
   "source": [
    "#Single\n",
    "model = model(project_id)\n",
    "model.read_poscar(poscar)\n",
    "model.input(calculation)\n",
    "model.compute(num_cores)"
   ]
  },
  {
   "cell_type": "code",
   "execution_count": null,
   "metadata": {},
   "outputs": [],
   "source": [
    "#Multi\n",
    "model = model(project_id)\n",
    "model.read_poscar(poscar)\n",
    "for parameter in range_of_parameters:\n",
    "    model.parameter_type = parameter\n",
    "    model.multi()\n",
    "    model.input(calculation)\n",
    "    model.compute(num_cores)"
   ]
  },
  {
   "cell_type": "code",
   "execution_count": null,
   "metadata": {},
   "outputs": [],
   "source": [
    "#Iterative\n",
    "model = model(project_id)\n",
    "model.read_poscar(poscar)\n",
    "model.iterative(parameter_type = parameter)\n",
    "model.input(calculation= \"type_of_calculation\")\n",
    "model.compute(num_cores)\n",
    "for parameter in range_of_parameters:\n",
    "    model.iterative(parameter_type = parameter)\n",
    "    model.input()\n",
    "    model.compute(num_cores)"
   ]
  },
  {
   "cell_type": "code",
   "execution_count": null,
   "metadata": {},
   "outputs": [],
   "source": [
    "prev = 0\n",
    "# for i in [0.05,0.04,0.03,0.02,0.01]:\n",
    "# for i in [0.05]:\n",
    "    config['system']['degauss']=i\n",
    "    if prev==0:\n",
    "        generate.input(project_id=\"Calculation\",job_id=f\"degauss_{i}\",calculation=\"vc-relax\",poscar=\"C.poscar\",config=config)\n",
    "        print(\"prev=0\")\n",
    "    else:\n",
    "        print(f\"prev={prev}\")\n",
    "        generate.input(project_id=\"Calculation\",job_id=f\"degauss_{i}\",calculation=\"vc-relax\",initial_guess=f\"./Calculation/degauss_{prev}/vc-relax.out\",config=config)\n",
    "    prev = i\n",
    "    compute.run_pw(project_id=\"Calculation\",job_id=f\"degauss_{i}\",calculation=\"vc-relax\",num_core=2)"
   ]
  },
  {
   "cell_type": "code",
   "execution_count": null,
   "metadata": {},
   "outputs": [],
   "source": [
    "ecut = np.linspace(20,150,20)\n",
    "for i in ecut:\n",
    "    config['system']['ecutwfc']=i\n",
    "    generate.input(project_id=\"Calculation\",job_id=f\"ecut_{i}\",calculation=\"scf\",poscar=\"C.poscar\",config=config)\n",
    "    compute.run_pw(project_id=\"Calculation\",job_id=f\"ecut_{i}\",calculation=\"scf\",num_core=2)"
   ]
  },
  {
   "cell_type": "code",
   "execution_count": null,
   "metadata": {},
   "outputs": [],
   "source": [
    "energies =[]\n",
    "for e in ecut:\n",
    "    path=f\"./Calculation/ecut_{e}/scf.out\"\n",
    "    en =utils.get_total_energy(path)\n",
    "    energies.append(en)\n",
    "    # print(e,en)\n",
    "plt.plot(ecut,energies,marker='o')\n",
    "plt.xlabel(\"Energy Cutoff (Ry)\")\n",
    "plt.ylabel(\"Total Energy (Ry)\")\n",
    "plt.show()\n",
    "    "
   ]
  },
  {
   "cell_type": "code",
   "execution_count": null,
   "metadata": {},
   "outputs": [],
   "source": [
    "kpoint = np.arange(1,20,1)\n",
    "for i in kpoint:\n",
    "    config['k_points']=f\"{i} {i} {i} 0 0 0\"\n",
    "    generate.input(project_id=\"Calculation\",job_id=f\"kpoint_{i}\",calculation=\"scf\",poscar=\"C.poscar\",config=config)\n",
    "    compute.run_pw(project_id=\"Calculation\",job_id=f\"kpoint_{i}\",calculation=\"scf\",num_core)"
   ]
  },
  {
   "cell_type": "code",
   "execution_count": null,
   "metadata": {},
   "outputs": [],
   "source": [
    "energies =[]\n",
    "for k in kpoint:\n",
    "    path=f\"./Calculation/kpoint_{k}/scf.out\"\n",
    "    en =utils.get_total_energy(path)\n",
    "    energies.append(en)\n",
    "    # print(e,en)\n",
    "plt.plot(kpoint,energies,marker='o')\n",
    "plt.xlabel(\"K points\")\n",
    "plt.xticks(kpoint)\n",
    "plt.ylabel(\"Total Energy (Ry)\")\n",
    "plt.show()\n",
    "    "
   ]
  }
 ],
 "metadata": {
  "kernelspec": {
   "display_name": "Python 3",
   "language": "python",
   "name": "python3"
  },
  "language_info": {
   "codemirror_mode": {
    "name": "ipython",
    "version": 3
   },
   "file_extension": ".py",
   "mimetype": "text/x-python",
   "name": "python",
   "nbconvert_exporter": "python",
   "pygments_lexer": "ipython3",
   "version": "3.10.12"
  }
 },
 "nbformat": 4,
 "nbformat_minor": 2
}
