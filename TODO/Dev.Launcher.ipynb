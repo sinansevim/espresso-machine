{
 "cells": [
  {
   "cell_type": "code",
   "execution_count": 5,
   "metadata": {},
   "outputs": [],
   "source": [
    "from dotenv import dotenv_values\n",
    "from src.espresso_machine import remote\n",
    "from src.espresso_machine import slurm"
   ]
  },
  {
   "cell_type": "code",
   "execution_count": 6,
   "metadata": {},
   "outputs": [
    {
     "data": {
      "text/plain": [
       "'#!/bin/bash \\n#SBATCH --partition bansil\\n#SBATCH --nodes     2\\n#SBATCH --ntasks    128\\n#SBATCH --job-name  remote\\n#SBATCH --output    remote.out\\n\\n\\nexport PATH=\"/work/bansil/s.sevim/software/q-e/bin/pw.x/bin/:$PATH\"\\n\\n\\nsource /shared/centos7/intel/oneapi/2022.1.0/setvars.sh\\n\\n\\nsource /work/bansil/s.sevim/remote-deploy/espresso-machine/.venv/bin/activate\\n\\ncd /work/bansil/s.sevim/remote-deploy/espresso-machine/\\npython3 job.py\\n'"
      ]
     },
     "execution_count": 6,
     "metadata": {},
     "output_type": "execute_result"
    }
   ],
   "source": [
    "slurm.generate()"
   ]
  },
  {
   "cell_type": "code",
   "execution_count": 7,
   "metadata": {},
   "outputs": [],
   "source": [
    "config = dotenv_values('.env')\n",
    "work_dir=config['WORK_DIR']"
   ]
  },
  {
   "cell_type": "code",
   "execution_count": null,
   "metadata": {},
   "outputs": [],
   "source": [
    "remote.put('run.sh',work_dir+\"run.sh\")"
   ]
  },
  {
   "cell_type": "code",
   "execution_count": null,
   "metadata": {},
   "outputs": [],
   "source": [
    "remote.put('./Jobs/UTe2.py',work_dir+\"job.py\")"
   ]
  },
  {
   "cell_type": "code",
   "execution_count": null,
   "metadata": {},
   "outputs": [],
   "source": [
    "remote.exec(f\"cat {work_dir}/run.sh\")"
   ]
  },
  {
   "cell_type": "code",
   "execution_count": null,
   "metadata": {},
   "outputs": [],
   "source": [
    "remote.exec(f\"cat {work_dir}/job.py\")"
   ]
  },
  {
   "cell_type": "code",
   "execution_count": null,
   "metadata": {},
   "outputs": [],
   "source": [
    "remote.exec(f\"cd {work_dir} && sbatch run.sh\")"
   ]
  },
  {
   "cell_type": "code",
   "execution_count": null,
   "metadata": {},
   "outputs": [],
   "source": [
    "remote.exec(f\"squeue -p bansil\")"
   ]
  }
 ],
 "metadata": {
  "kernelspec": {
   "display_name": ".venv",
   "language": "python",
   "name": "python3"
  },
  "language_info": {
   "codemirror_mode": {
    "name": "ipython",
    "version": 3
   },
   "file_extension": ".py",
   "mimetype": "text/x-python",
   "name": "python",
   "nbconvert_exporter": "python",
   "pygments_lexer": "ipython3",
   "version": "3.10.12"
  }
 },
 "nbformat": 4,
 "nbformat_minor": 2
}
