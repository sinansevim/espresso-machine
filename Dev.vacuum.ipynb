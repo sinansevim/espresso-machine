{
 "cells": [
  {
   "cell_type": "code",
   "execution_count": 1,
   "metadata": {},
   "outputs": [],
   "source": [
    "from src import espresso_machine as esma"
   ]
  },
  {
   "cell_type": "code",
   "execution_count": 2,
   "metadata": {},
   "outputs": [],
   "source": [
    "#Step 1 - Initialize model\n",
    "model = esma.project(project_id=\"TiSe2\") #Define project\n",
    "model.set_cores(8) #Define number of prcessing cores\n",
    "model.get_structure(format='poscar',path='./Research',name='/TiSe2/TiSe2.poscar') #Load structure\n",
    "model.set_pseudo(path='./Research/TiSe2')\n",
    "model.ecutwfc(100) #Set wavefunction cutoff\n",
    "model.ecutrho(700) #Set wavefunction cutoff\n",
    "model.k_points(8) #Set number of k points\n",
    "model.degauss(0.02) #Set degauss value\n",
    "model.conv_thr(1e-6) #Set convergence threshold\n",
    "model.smearing('fd')\n",
    "model.shift_atoms([0,0,0.5]) #Shift Te atom to the middle\n",
    "model.config['pw']['control']['etot_conv_thr'] = 10**-3\n",
    "model.config['pw']['control']['forc_conv_thr'] = 10**-2"
   ]
  },
  {
   "cell_type": "code",
   "execution_count": 3,
   "metadata": {},
   "outputs": [
    {
     "name": "stdout",
     "output_type": "stream",
     "text": [
      "vc-relax is finished\n"
     ]
    }
   ],
   "source": [
    "#Step 2 - Crystal optimization\n",
    "model.calculate('vc-relax')"
   ]
  },
  {
   "cell_type": "code",
   "execution_count": 4,
   "metadata": {},
   "outputs": [
    {
     "name": "stdout",
     "output_type": "stream",
     "text": [
      "relax is finished\n"
     ]
    }
   ],
   "source": [
    "#Step 3 - Atomic optimization\n",
    "model.get_structure('vc-relax') #Get vc-relaxed strucutre\n",
    "model.add_vacuum('z',[0,0,5]) #Add vacuum on z direction\n",
    "model.k_points([8,8,1])\n",
    "model.calculate('relax')"
   ]
  },
  {
   "cell_type": "code",
   "execution_count": 5,
   "metadata": {},
   "outputs": [
    {
     "name": "stdout",
     "output_type": "stream",
     "text": [
      "scf is finished\n"
     ]
    }
   ],
   "source": [
    "#Step 4 - Scf calculation\n",
    "model.get_structure('relax') #Get relaxed strucutre\n",
    "model.calculate('scf')"
   ]
  },
  {
   "cell_type": "code",
   "execution_count": 6,
   "metadata": {},
   "outputs": [],
   "source": [
    "# Step 5 - Run ph.x\n",
    "model.set_q(nq1=6,nq2=6,nq3=1) #Set parameters\n",
    "model.calculate('ph')"
   ]
  },
  {
   "cell_type": "code",
   "execution_count": null,
   "metadata": {},
   "outputs": [],
   "source": [
    "#Step- 2 - Run q2r.x\n",
    "model.calculate('q2r') #Run calculation"
   ]
  },
  {
   "cell_type": "code",
   "execution_count": null,
   "metadata": {},
   "outputs": [],
   "source": [
    "#Step 5 - Bands calculation\n",
    "path = ['GAMMA','M',\"K\",\"GAMMA\"] #define corners\n",
    "model.band_points(path,number=50) #define path\n",
    "model.calculate('bands')"
   ]
  },
  {
   "cell_type": "code",
   "execution_count": null,
   "metadata": {},
   "outputs": [],
   "source": [
    "#Step 6 - Plotting\n",
    "model.plot('electron',ylim=[-3,3],save=True) #plot electron bands"
   ]
  },
  {
   "cell_type": "code",
   "execution_count": null,
   "metadata": {},
   "outputs": [],
   "source": [
    "#Step 3 - Run matdyn.x\n",
    "num_points = 200 # Number of q points\n",
    "model.calculate(\"matdyn\") #Run calculation"
   ]
  },
  {
   "cell_type": "code",
   "execution_count": null,
   "metadata": {},
   "outputs": [],
   "source": [
    "#Step 4 - Plotting\n",
    "model.plot('phonon',save=True) # Plot phonon band"
   ]
  },
  {
   "cell_type": "code",
   "execution_count": null,
   "metadata": {},
   "outputs": [],
   "source": []
  },
  {
   "cell_type": "code",
   "execution_count": null,
   "metadata": {},
   "outputs": [],
   "source": []
  }
 ],
 "metadata": {
  "kernelspec": {
   "display_name": ".venv",
   "language": "python",
   "name": "python3"
  },
  "language_info": {
   "codemirror_mode": {
    "name": "ipython",
    "version": 3
   },
   "file_extension": ".py",
   "mimetype": "text/x-python",
   "name": "python",
   "nbconvert_exporter": "python",
   "pygments_lexer": "ipython3",
   "version": "3.10.12"
  }
 },
 "nbformat": 4,
 "nbformat_minor": 2
}
