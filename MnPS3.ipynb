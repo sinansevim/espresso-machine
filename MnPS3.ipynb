{
 "cells": [
  {
   "cell_type": "code",
   "execution_count": null,
   "metadata": {},
   "outputs": [],
   "source": [
    "import src as esma #Import library\n",
    "num_core = 8 #Define number of cores"
   ]
  },
  {
   "cell_type": "code",
   "execution_count": null,
   "metadata": {},
   "outputs": [],
   "source": [
    "model = esma.pw(project_id='MnPS3')"
   ]
  },
  {
   "cell_type": "code",
   "execution_count": null,
   "metadata": {},
   "outputs": [],
   "source": [
    "model.get_structure(format='poscar')"
   ]
  },
  {
   "cell_type": "code",
   "execution_count": null,
   "metadata": {},
   "outputs": [],
   "source": [
    "afm_models = model.make_afm('Mn')"
   ]
  },
  {
   "cell_type": "code",
   "execution_count": null,
   "metadata": {},
   "outputs": [],
   "source": [
    "#1 - Give initial model\n",
    "#2 - Define magnetic atom\n",
    "#3 - Return magnetic states\n",
    "#4 - FM and AFM\n",
    "\n",
    "'''FM is easier to do. Only starting magnetization parameter should be added for the relevent atom'''\n",
    "'''Number of AFM states can be changing depending on the number of magnetic atoms. The number of magnetic atoms should be divided\n",
    " into two for spin up and down. Total magnetism is going to be zero but the order of spins are going to be change.'''"
   ]
  },
  {
   "cell_type": "code",
   "execution_count": null,
   "metadata": {
    "vscode": {
     "languageId": "shellscript"
    }
   },
   "outputs": [],
   "source": [
    "for j,state in enumerate(afm_models):\n",
    "    #Adjust parameters\n",
    "    state.ecutwfc(80) #Set wavefunction cutoff\n",
    "    state.config['system']['ecutrho']=640\n",
    "    state.k_points(3) #Set number of k points\n",
    "    state.degauss(0.01) #Set degauss value\n",
    "    state.conv_thr(1e-6) #Set convergence threshold\n",
    "    state.set_pseudo(\"US/\")\n",
    "    \n",
    "    state.job_id=f\"afm_{j}\""
   ]
  },
  {
   "cell_type": "code",
   "execution_count": null,
   "metadata": {},
   "outputs": [],
   "source": [
    "#Crystal optimization\n",
    "afm_models[0].vc_relax(num_core)"
   ]
  },
  {
   "cell_type": "code",
   "execution_count": null,
   "metadata": {},
   "outputs": [],
   "source": [
    "#Scf calculation\n",
    "afm_models[0].get_structure(format='vc-relax')\n",
    "afm_models[0].scf(num_core)"
   ]
  }
 ],
 "metadata": {
  "kernelspec": {
   "display_name": "Python 3",
   "language": "python",
   "name": "python3"
  },
  "language_info": {
   "codemirror_mode": {
    "name": "ipython",
    "version": 3
   },
   "file_extension": ".py",
   "mimetype": "text/x-python",
   "name": "python",
   "nbconvert_exporter": "python",
   "pygments_lexer": "ipython3",
   "version": "3.10.12"
  }
 },
 "nbformat": 4,
 "nbformat_minor": 2
}
