{
 "cells": [
  {
   "cell_type": "code",
   "execution_count": 1,
   "metadata": {},
   "outputs": [],
   "source": [
    "import src as esma #Import library\n",
    "num_core = 60 #Define number of cores"
   ]
  },
  {
   "cell_type": "code",
   "execution_count": 2,
   "metadata": {},
   "outputs": [],
   "source": [
    "model = esma.pw(project_id='MnPS3')"
   ]
  },
  {
   "cell_type": "code",
   "execution_count": 3,
   "metadata": {},
   "outputs": [],
   "source": [
    "model.get_structure(format='poscar')"
   ]
  },
  {
   "cell_type": "code",
   "execution_count": 4,
   "metadata": {},
   "outputs": [],
   "source": [
    "model.ecutwfc(80) #Set wavefunction cutoff\n",
    "model.config['system']['ecutrho']=640\n",
    "model.k_points(5) #Set number of k points\n",
    "model.degauss(0.01) #Set degauss value\n",
    "model.conv_thr(1e-6) #Set convergence threshold\n",
    "model.set_pseudo(\"US\")"
   ]
  },
  {
   "cell_type": "code",
   "execution_count": 5,
   "metadata": {},
   "outputs": [],
   "source": [
    "afm_models = model.make_afm('Mn')"
   ]
  },
  {
   "cell_type": "code",
   "execution_count": 6,
   "metadata": {
    "vscode": {
     "languageId": "shellscript"
    }
   },
   "outputs": [],
   "source": [
    "energies=[]\n",
    "for j,state in enumerate(afm_models):\n",
    "    state.job_id=f\"afm_{j}\"\n",
    "    state.vc_relax(num_core)\n",
    "    state.get_structure(format='vc-relax')\n",
    "    state.scf(num_core)\n",
    "    energies.append(state.energy())"
   ]
  },
  {
   "cell_type": "code",
   "execution_count": null,
   "metadata": {
    "vscode": {
     "languageId": "shellscript"
    }
   },
   "outputs": [],
   "source": []
  }
 ],
 "metadata": {
  "kernelspec": {
   "display_name": "Python 3",
   "language": "python",
   "name": "python3"
  },
  "language_info": {
   "codemirror_mode": {
    "name": "ipython",
    "version": 3
   },
   "file_extension": ".py",
   "mimetype": "text/x-python",
   "name": "python",
   "nbconvert_exporter": "python",
   "pygments_lexer": "ipython3",
   "version": "3.10.12"
  }
 },
 "nbformat": 4,
 "nbformat_minor": 2
}
