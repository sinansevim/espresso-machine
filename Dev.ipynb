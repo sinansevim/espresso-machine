{
 "cells": [
  {
   "cell_type": "code",
   "execution_count": 1,
   "metadata": {},
   "outputs": [
    {
     "ename": "ImportError",
     "evalue": "cannot import name 'checks' from partially initialized module 'src.espresso_machine' (most likely due to a circular import) (/work/bansil/s.sevim/Test/espresso-machine/src/espresso_machine/__init__.py)",
     "output_type": "error",
     "traceback": [
      "\u001b[0;31m---------------------------------------------------------------------------\u001b[0m",
      "\u001b[0;31mImportError\u001b[0m                               Traceback (most recent call last)",
      "Cell \u001b[0;32mIn[1], line 1\u001b[0m\n\u001b[0;32m----> 1\u001b[0m \u001b[39mfrom\u001b[39;00m \u001b[39msrc\u001b[39;00m \u001b[39mimport\u001b[39;00m espresso_machine \u001b[39mas\u001b[39;00m esma\n",
      "File \u001b[0;32m/work/bansil/s.sevim/Test/espresso-machine/src/__init__.py:1\u001b[0m\n\u001b[0;32m----> 1\u001b[0m \u001b[39mfrom\u001b[39;00m \u001b[39m.\u001b[39;00m \u001b[39mimport\u001b[39;00m espresso_machine\n",
      "File \u001b[0;32m/work/bansil/s.sevim/Test/espresso-machine/src/espresso_machine/__init__.py:1\u001b[0m\n\u001b[0;32m----> 1\u001b[0m \u001b[39mfrom\u001b[39;00m \u001b[39m.\u001b[39;00m\u001b[39mproject\u001b[39;00m \u001b[39mimport\u001b[39;00m project\n\u001b[1;32m      2\u001b[0m \u001b[39mfrom\u001b[39;00m \u001b[39m.\u001b[39;00m\u001b[39mph\u001b[39;00m \u001b[39mimport\u001b[39;00m ph\n\u001b[1;32m      3\u001b[0m \u001b[39mfrom\u001b[39;00m \u001b[39m.\u001b[39;00m\u001b[39mutils\u001b[39;00m \u001b[39mimport\u001b[39;00m minimum_energy\n",
      "File \u001b[0;32m/work/bansil/s.sevim/Test/espresso-machine/src/espresso_machine/project.py:9\u001b[0m\n\u001b[1;32m      7\u001b[0m \u001b[39mfrom\u001b[39;00m \u001b[39m.\u001b[39;00m \u001b[39mimport\u001b[39;00m structure\n\u001b[1;32m      8\u001b[0m \u001b[39mfrom\u001b[39;00m \u001b[39m.\u001b[39;00m \u001b[39mimport\u001b[39;00m writes\n\u001b[0;32m----> 9\u001b[0m \u001b[39mfrom\u001b[39;00m \u001b[39m.\u001b[39;00m \u001b[39mimport\u001b[39;00m checks\n\u001b[1;32m     10\u001b[0m \u001b[39mimport\u001b[39;00m \u001b[39mnumpy\u001b[39;00m \u001b[39mas\u001b[39;00m \u001b[39mnp\u001b[39;00m \n\u001b[1;32m     12\u001b[0m \u001b[39mclass\u001b[39;00m \u001b[39mproject\u001b[39;00m:\n",
      "\u001b[0;31mImportError\u001b[0m: cannot import name 'checks' from partially initialized module 'src.espresso_machine' (most likely due to a circular import) (/work/bansil/s.sevim/Test/espresso-machine/src/espresso_machine/__init__.py)"
     ]
    }
   ],
   "source": [
    "from src import espresso_machine as esma"
   ]
  },
  {
   "cell_type": "code",
   "execution_count": null,
   "metadata": {},
   "outputs": [],
   "source": [
    "model. "
   ]
  },
  {
   "cell_type": "code",
   "execution_count": null,
   "metadata": {},
   "outputs": [],
   "source": []
  },
  {
   "cell_type": "code",
   "execution_count": null,
   "metadata": {},
   "outputs": [],
   "source": []
  },
  {
   "cell_type": "code",
   "execution_count": null,
   "metadata": {},
   "outputs": [],
   "source": []
  },
  {
   "cell_type": "code",
   "execution_count": 2,
   "metadata": {},
   "outputs": [],
   "source": [
    "#Step 1 - Initialize model\n",
    "model = esma.project(project_id=\"UTe2\") #Define project\n",
    "model.set_cores(8) #Define number of prcessing cores\n",
    "model.get_structure(format='poscar',path='./Research',name='/UTe2/UTe2.poscar') #Load structure\n",
    "model.set_pseudo(path='./Research')\n",
    "model.ecutwfc(150) #Set wavefunction cutoff\n",
    "model.ecutrho(800) #Set wavefunction cutoff\n",
    "model.k_points(8) #Set number of k points\n",
    "model.degauss(0.02) #Set degauss value\n",
    "model.conv_thr(1e-6) #Set convergence threshold\n",
    "model.smearing('mv')\n",
    "model.hubbard(atom='U',orbital='5f',value=4)\n",
    "model.config['pw']['electrons']['mixing_mode']='local-TF'"
   ]
  },
  {
   "cell_type": "code",
   "execution_count": 3,
   "metadata": {},
   "outputs": [],
   "source": [
    "model.debug=True"
   ]
  },
  {
   "cell_type": "code",
   "execution_count": 4,
   "metadata": {},
   "outputs": [],
   "source": [
    "models = model.magnetize(magnetic_atom='U')"
   ]
  },
  {
   "cell_type": "code",
   "execution_count": 6,
   "metadata": {},
   "outputs": [],
   "source": [
    "for i,state in enumerate(models):\n",
    "    #Adjust parameters\n",
    "    state.calculate('vc-relax')\n",
    "for i,state in enumerate(models):\n",
    "    # state.get_structure('vc-relax') #Get vc-relaxed strucutre\n",
    "    state.calculate('scf')\n",
    "# ground_state = esma.minimum_energy(models)"
   ]
  },
  {
   "cell_type": "code",
   "execution_count": null,
   "metadata": {},
   "outputs": [],
   "source": [
    "# del ground_state.config['pw']['system']['nspin']\n",
    "# ground_state.set_pseudo(\"US/REL\")\n",
    "# ground_state.debug=False\n",
    "# ground_state.calculate('scf')\n",
    "path = ['GAMMA','X',\"L_0\",\"T\",\"W\",\"R\"] #define corners\n",
    "num_points = 50 #number of points\n",
    "ground_state.band_points(path,num_points) #define path\n",
    "ground_state.calculate('bands')\n",
    "ground_state.plot('electron',ylim=[-20,30]) #plot electron bands"
   ]
  }
 ],
 "metadata": {
  "kernelspec": {
   "display_name": ".venv",
   "language": "python",
   "name": "python3"
  },
  "language_info": {
   "codemirror_mode": {
    "name": "ipython",
    "version": 3
   },
   "file_extension": ".py",
   "mimetype": "text/x-python",
   "name": "python",
   "nbconvert_exporter": "python",
   "pygments_lexer": "ipython3",
   "version": "3.11.5"
  }
 },
 "nbformat": 4,
 "nbformat_minor": 2
}
