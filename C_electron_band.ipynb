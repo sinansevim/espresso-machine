{
 "cells": [
  {
   "cell_type": "code",
   "execution_count": null,
   "metadata": {},
   "outputs": [],
   "source": [
    "from src import model #Import library\n",
    "num_core = 8 #Define number of cores"
   ]
  },
  {
   "cell_type": "code",
   "execution_count": null,
   "metadata": {},
   "outputs": [],
   "source": [
    "#Step 1 - Initialize model\n",
    "pw = model.pw(project_id=\"C\") #Initialize model\n",
    "pw.from_poscar(directory=\"./Structures/C.poscar\") #Load structure\n",
    "pw.ecutwfc(120) #Wavefunction cut-off\n",
    "pw.k_points(8) #k mesh \n",
    "pw.degauss(0.01) #degauss value\n",
    "pw.conv_thr(\"1e-8\") #electron convergence threshold"
   ]
  },
  {
   "cell_type": "code",
   "execution_count": null,
   "metadata": {},
   "outputs": [],
   "source": [
    "pw.config"
   ]
  },
  {
   "cell_type": "code",
   "execution_count": null,
   "metadata": {},
   "outputs": [],
   "source": [
    "#Step 2 - Crystal optimization\n",
    "pw.vc_relax(num_core)"
   ]
  },
  {
   "cell_type": "code",
   "execution_count": null,
   "metadata": {},
   "outputs": [],
   "source": [
    "#Step 3 - Atomic optimization\n",
    "pw.relax(num_core,layer='mono') #mono layer "
   ]
  },
  {
   "cell_type": "code",
   "execution_count": null,
   "metadata": {},
   "outputs": [],
   "source": [
    "#Step 4 - Scf calculation\n",
    "pw.scf(num_core)"
   ]
  },
  {
   "cell_type": "code",
   "execution_count": null,
   "metadata": {},
   "outputs": [],
   "source": [
    "#Step 5 - Bands calculation\n",
    "path = ['GAMMA','M','K','GAMMA'] #choose corners\n",
    "pw.bands(path=path,num_points=40, num_core=num_core)"
   ]
  },
  {
   "cell_type": "code",
   "execution_count": null,
   "metadata": {},
   "outputs": [],
   "source": [
    "#Step 6 - Plotting\n",
    "pw.plot_electron(ylim=[-10,10],save=True) #plot electron bands"
   ]
  }
 ],
 "metadata": {
  "kernelspec": {
   "display_name": "Python 3",
   "language": "python",
   "name": "python3"
  },
  "language_info": {
   "codemirror_mode": {
    "name": "ipython",
    "version": 3
   },
   "file_extension": ".py",
   "mimetype": "text/x-python",
   "name": "python",
   "nbconvert_exporter": "python",
   "pygments_lexer": "ipython3",
   "version": "3.10.12"
  }
 },
 "nbformat": 4,
 "nbformat_minor": 2
}
