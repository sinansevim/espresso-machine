{
 "cells": [
  {
   "cell_type": "code",
   "execution_count": 1,
   "metadata": {},
   "outputs": [],
   "source": [
    "from src import espresso_machine as esma"
   ]
  },
  {
   "cell_type": "code",
   "execution_count": 2,
   "metadata": {},
   "outputs": [],
   "source": [
    "#Step 1 - Initialize model\n",
    "model = esma.project(project_id=\"UTe2\") #Define project\n",
    "model.set_cores(8) #Define number of prcessing cores\n",
    "model.get_structure(format='poscar',path='./Research',name='/UTe2/UTe2.poscar') #Load structure\n",
    "model.set_pseudo(path='./Research/UTe2')\n",
    "model.ecutwfc(150) #Set wavefunction cutoff\n",
    "model.ecutrho(800) #Set wavefunction cutoff\n",
    "model.k_points(4) #Set number of k points\n",
    "model.degauss(0.02) #Set degauss value\n",
    "model.conv_thr(1e-6) #Set convergence threshold\n",
    "model.smearing('mv')\n",
    "model.hubbard(atom='U',orbital='5f',value=4)\n",
    "model.config['pw']['electrons']['mixing_mode']='local-TF'\n",
    "\n",
    "model.config['pw']['control']['etot_conv_thr'] = 10**-1\n",
    "model.config['pw']['control']['forc_conv_thr'] = 1\n",
    "model.config['pw']['control']['forc_conv_thr'] = 2"
   ]
  },
  {
   "cell_type": "code",
   "execution_count": 3,
   "metadata": {},
   "outputs": [],
   "source": [
    "models = model.magnetize(magnetic_atom='U')"
   ]
  },
  {
   "cell_type": "code",
   "execution_count": 4,
   "metadata": {},
   "outputs": [
    {
     "name": "stdout",
     "output_type": "stream",
     "text": [
      "vc-relax is finished\n",
      "vc-relax is finished\n",
      "vc-relax is finished\n",
      "vc-relax is finished\n"
     ]
    },
    {
     "ename": "ValueError",
     "evalue": "could not convert string to float: '\"P.'",
     "output_type": "error",
     "traceback": [
      "\u001b[0;31m---------------------------------------------------------------------------\u001b[0m",
      "\u001b[0;31mValueError\u001b[0m                                Traceback (most recent call last)",
      "Cell \u001b[0;32mIn[4], line 5\u001b[0m\n\u001b[1;32m      3\u001b[0m     state\u001b[38;5;241m.\u001b[39mcalculate(\u001b[38;5;124m'\u001b[39m\u001b[38;5;124mvc-relax\u001b[39m\u001b[38;5;124m'\u001b[39m)\n\u001b[1;32m      4\u001b[0m \u001b[38;5;28;01mfor\u001b[39;00m i,state \u001b[38;5;129;01min\u001b[39;00m \u001b[38;5;28menumerate\u001b[39m(models):\n\u001b[0;32m----> 5\u001b[0m     \u001b[43mstate\u001b[49m\u001b[38;5;241;43m.\u001b[39;49m\u001b[43mget_structure\u001b[49m\u001b[43m(\u001b[49m\u001b[38;5;124;43m'\u001b[39;49m\u001b[38;5;124;43mvc-relax\u001b[39;49m\u001b[38;5;124;43m'\u001b[39;49m\u001b[43m)\u001b[49m \u001b[38;5;66;03m#Get vc-relaxed strucutre\u001b[39;00m\n\u001b[1;32m      6\u001b[0m     state\u001b[38;5;241m.\u001b[39mcalculate(\u001b[38;5;124m'\u001b[39m\u001b[38;5;124mscf\u001b[39m\u001b[38;5;124m'\u001b[39m)\n\u001b[1;32m      7\u001b[0m ground_state \u001b[38;5;241m=\u001b[39m esma\u001b[38;5;241m.\u001b[39mminimum_energy(models)\n",
      "File \u001b[0;32m~/Desktop/espresso-machine/src/espresso_machine/project.py:158\u001b[0m, in \u001b[0;36mproject.get_structure\u001b[0;34m(self, format, name, path, project_id, job_id, config)\u001b[0m\n\u001b[1;32m    156\u001b[0m \u001b[38;5;28;01mdef\u001b[39;00m \u001b[38;5;21mget_structure\u001b[39m(\u001b[38;5;28mself\u001b[39m,\u001b[38;5;28mformat\u001b[39m,name\u001b[38;5;241m=\u001b[39m\u001b[38;5;28;01mFalse\u001b[39;00m,path\u001b[38;5;241m=\u001b[39m\u001b[38;5;28;01mFalse\u001b[39;00m,project_id\u001b[38;5;241m=\u001b[39m\u001b[38;5;28;01mFalse\u001b[39;00m,job_id\u001b[38;5;241m=\u001b[39m\u001b[38;5;28;01mFalse\u001b[39;00m,config\u001b[38;5;241m=\u001b[39m\u001b[38;5;28;01mFalse\u001b[39;00m):\n\u001b[1;32m    157\u001b[0m     \u001b[38;5;66;03m# self.poscar=f'./Structures/{self.project_id}.poscar'\u001b[39;00m\n\u001b[0;32m--> 158\u001b[0m     \u001b[43mreads\u001b[49m\u001b[38;5;241;43m.\u001b[39;49m\u001b[43mread_structure\u001b[49m\u001b[43m(\u001b[49m\u001b[38;5;28;43mself\u001b[39;49m\u001b[43m,\u001b[49m\u001b[38;5;28;43mformat\u001b[39;49m\u001b[43m,\u001b[49m\u001b[43mname\u001b[49m\u001b[38;5;241;43m=\u001b[39;49m\u001b[43mname\u001b[49m\u001b[43m,\u001b[49m\u001b[43mpath\u001b[49m\u001b[38;5;241;43m=\u001b[39;49m\u001b[43mpath\u001b[49m\u001b[43m)\u001b[49m\n",
      "File \u001b[0;32m~/Desktop/espresso-machine/src/espresso_machine/reads.py:16\u001b[0m, in \u001b[0;36mread_structure\u001b[0;34m(self, format, path, name)\u001b[0m\n\u001b[1;32m     14\u001b[0m     cell,atom \u001b[38;5;241m=\u001b[39m read_poscar(\u001b[38;5;124mf\u001b[39m\u001b[38;5;124m\"\u001b[39m\u001b[38;5;132;01m{\u001b[39;00mpath\u001b[38;5;132;01m}\u001b[39;00m\u001b[38;5;124m/\u001b[39m\u001b[38;5;132;01m{\u001b[39;00mname\u001b[38;5;132;01m}\u001b[39;00m\u001b[38;5;124m\"\u001b[39m)  \n\u001b[1;32m     15\u001b[0m \u001b[38;5;28;01mif\u001b[39;00m \u001b[38;5;28mformat\u001b[39m\u001b[38;5;241m.\u001b[39mlower()\u001b[38;5;241m==\u001b[39m\u001b[38;5;124m'\u001b[39m\u001b[38;5;124mvc-relax\u001b[39m\u001b[38;5;124m'\u001b[39m:\n\u001b[0;32m---> 16\u001b[0m     cell, atom \u001b[38;5;241m=\u001b[39m \u001b[43mread_vc_relax\u001b[49m\u001b[43m(\u001b[49m\u001b[38;5;124;43mf\u001b[39;49m\u001b[38;5;124;43m\"\u001b[39;49m\u001b[38;5;124;43m./Projects/\u001b[39;49m\u001b[38;5;132;43;01m{\u001b[39;49;00m\u001b[43mproject_id\u001b[49m\u001b[38;5;132;43;01m}\u001b[39;49;00m\u001b[38;5;124;43m/\u001b[39;49m\u001b[38;5;132;43;01m{\u001b[39;49;00m\u001b[43mjob_id\u001b[49m\u001b[38;5;132;43;01m}\u001b[39;49;00m\u001b[38;5;124;43m/vc-relax.out\u001b[39;49m\u001b[38;5;124;43m\"\u001b[39;49m\u001b[43m)\u001b[49m\n\u001b[1;32m     17\u001b[0m \u001b[38;5;28;01mif\u001b[39;00m \u001b[38;5;28mformat\u001b[39m\u001b[38;5;241m.\u001b[39mlower()\u001b[38;5;241m==\u001b[39m\u001b[38;5;124m'\u001b[39m\u001b[38;5;124mrelax\u001b[39m\u001b[38;5;124m'\u001b[39m:\n\u001b[1;32m     18\u001b[0m     atom \u001b[38;5;241m=\u001b[39m read_relax(\u001b[38;5;124mf\u001b[39m\u001b[38;5;124m\"\u001b[39m\u001b[38;5;124m./Projects/\u001b[39m\u001b[38;5;132;01m{\u001b[39;00mproject_id\u001b[38;5;132;01m}\u001b[39;00m\u001b[38;5;124m/\u001b[39m\u001b[38;5;132;01m{\u001b[39;00mjob_id\u001b[38;5;132;01m}\u001b[39;00m\u001b[38;5;124m/relax.out\u001b[39m\u001b[38;5;124m\"\u001b[39m)\n",
      "File \u001b[0;32m~/Desktop/espresso-machine/src/espresso_machine/reads.py:132\u001b[0m, in \u001b[0;36mread_vc_relax\u001b[0;34m(path)\u001b[0m\n\u001b[1;32m    129\u001b[0m     \u001b[38;5;28;01mif\u001b[39;00m vc_relax[i] \u001b[38;5;241m==\u001b[39m \u001b[38;5;124m'\u001b[39m\u001b[38;5;124mEnd final coordinates\u001b[39m\u001b[38;5;130;01m\\n\u001b[39;00m\u001b[38;5;124m'\u001b[39m:\n\u001b[1;32m    130\u001b[0m         end \u001b[38;5;241m=\u001b[39m i\n\u001b[1;32m    131\u001b[0m cell \u001b[38;5;241m=\u001b[39m \u001b[43mnp\u001b[49m\u001b[38;5;241;43m.\u001b[39;49m\u001b[43marray\u001b[49m\u001b[43m(\u001b[49m\u001b[43m[\u001b[49m\u001b[43mi\u001b[49m\u001b[38;5;241;43m.\u001b[39;49m\u001b[43msplit\u001b[49m\u001b[43m(\u001b[49m\u001b[43m)\u001b[49m\n\u001b[0;32m--> 132\u001b[0m \u001b[43m                \u001b[49m\u001b[38;5;28;43;01mfor\u001b[39;49;00m\u001b[43m \u001b[49m\u001b[43mi\u001b[49m\u001b[43m \u001b[49m\u001b[38;5;129;43;01min\u001b[39;49;00m\u001b[43m \u001b[49m\u001b[43mvc_relax\u001b[49m\u001b[43m[\u001b[49m\u001b[43mbegin\u001b[49m\u001b[38;5;241;43m+\u001b[39;49m\u001b[38;5;241;43m5\u001b[39;49m\u001b[43m:\u001b[49m\u001b[43mbegin\u001b[49m\u001b[38;5;241;43m+\u001b[39;49m\u001b[38;5;241;43m8\u001b[39;49m\u001b[43m]\u001b[49m\u001b[43m]\u001b[49m\u001b[43m)\u001b[49m\u001b[38;5;241;43m.\u001b[39;49m\u001b[43mastype\u001b[49m\u001b[43m(\u001b[49m\u001b[38;5;28;43mfloat\u001b[39;49m\u001b[43m)\u001b[49m\n\u001b[1;32m    133\u001b[0m atoms \u001b[38;5;241m=\u001b[39m np\u001b[38;5;241m.\u001b[39marray([i\u001b[38;5;241m.\u001b[39msplit() \u001b[38;5;28;01mfor\u001b[39;00m i \u001b[38;5;129;01min\u001b[39;00m vc_relax[begin\u001b[38;5;241m+\u001b[39m\u001b[38;5;241m10\u001b[39m:end]])\n\u001b[1;32m    134\u001b[0m \u001b[38;5;28;01mreturn\u001b[39;00m(cell, atoms)\n",
      "\u001b[0;31mValueError\u001b[0m: could not convert string to float: '\"P.'"
     ]
    }
   ],
   "source": [
    "for i,state in enumerate(models):\n",
    "    #Adjust parameters\n",
    "    state.calculate('vc-relax')\n",
    "for i,state in enumerate(models):\n",
    "    state.get_structure('vc-relax') #Get vc-relaxed strucutre\n",
    "    state.calculate('scf')\n",
    "ground_state = esma.minimum_energy(models)"
   ]
  },
  {
   "cell_type": "code",
   "execution_count": null,
   "metadata": {},
   "outputs": [],
   "source": [
    "# del ground_state.config['pw']['system']['nspin']\n",
    "# ground_state.set_pseudo(\"US/REL\")\n",
    "# ground_state.debug=False\n",
    "# ground_state.calculate('scf')\n",
    "path = ['GAMMA','X',\"L_0\",\"T\",\"W\",\"R\"] #define corners\n",
    "num_points = 50 #number of points\n",
    "ground_state.band_points(path,num_points) #define path\n",
    "ground_state.calculate('bands')\n",
    "ground_state.plot('electron',ylim=[-20,30]) #plot electron bands"
   ]
  }
 ],
 "metadata": {
  "kernelspec": {
   "display_name": ".venv",
   "language": "python",
   "name": "python3"
  },
  "language_info": {
   "codemirror_mode": {
    "name": "ipython",
    "version": 3
   },
   "file_extension": ".py",
   "mimetype": "text/x-python",
   "name": "python",
   "nbconvert_exporter": "python",
   "pygments_lexer": "ipython3",
   "version": "3.10.12"
  }
 },
 "nbformat": 4,
 "nbformat_minor": 2
}
