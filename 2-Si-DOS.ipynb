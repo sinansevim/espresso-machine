{
 "cells": [
  {
   "cell_type": "code",
   "execution_count": null,
   "metadata": {},
   "outputs": [],
   "source": [
    "import src as esma #Import library"
   ]
  },
  {
   "cell_type": "code",
   "execution_count": null,
   "metadata": {},
   "outputs": [],
   "source": [
    "#Step 1 - Initialize model\n",
    "model = esma.project(project_id=\"Si\") #Define project\n",
    "model.set_cores(8) #Define number of processing cores\n",
    "model.get_structure(format='vc-relax') #Load structure\n",
    "model.ecutwfc(80) #Set wavefunction cutoff\n",
    "model.set_pseudo(\"US\")"
   ]
  },
  {
   "cell_type": "code",
   "execution_count": null,
   "metadata": {},
   "outputs": [],
   "source": [
    "#Step 4 - Nscf calculation\n",
    "model.occupations('tetrahedra')\n",
    "model.k_points(12)\n",
    "model.calculate('nscf')"
   ]
  },
  {
   "cell_type": "code",
   "execution_count": null,
   "metadata": {},
   "outputs": [],
   "source": [
    "#Step 6 - Density of states calculation\n",
    "model.dos(emin=-8,emax=18)\n",
    "model.calculate('dos')"
   ]
  },
  {
   "cell_type": "code",
   "execution_count": null,
   "metadata": {},
   "outputs": [],
   "source": [
    "#Step 7 - Plotting\n",
    "model.plot('dos',xlim=[-8,18]) #plot dos"
   ]
  }
 ],
 "metadata": {
  "kernelspec": {
   "display_name": ".venv",
   "language": "python",
   "name": "python3"
  },
  "language_info": {
   "codemirror_mode": {
    "name": "ipython",
    "version": 3
   },
   "file_extension": ".py",
   "mimetype": "text/x-python",
   "name": "python",
   "nbconvert_exporter": "python",
   "pygments_lexer": "ipython3",
   "version": "3.10.12"
  }
 },
 "nbformat": 4,
 "nbformat_minor": 2
}
