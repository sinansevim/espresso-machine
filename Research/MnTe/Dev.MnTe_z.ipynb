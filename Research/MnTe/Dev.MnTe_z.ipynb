{
 "cells": [
  {
   "cell_type": "code",
   "execution_count": 1,
   "metadata": {},
   "outputs": [],
   "source": [
    "from src import esma"
   ]
  },
  {
   "cell_type": "code",
   "execution_count": 2,
   "metadata": {},
   "outputs": [],
   "source": [
    "model = esma.project(project_id='MnTe_SOC')"
   ]
  },
  {
   "cell_type": "code",
   "execution_count": 3,
   "metadata": {},
   "outputs": [],
   "source": [
    "model.set_pseudo(path=\"/work/bansil/s.sevim/Test/espresso-machine/Pseudopotentials/PBE/US/SOC\")"
   ]
  },
  {
   "cell_type": "code",
   "execution_count": 4,
   "metadata": {},
   "outputs": [],
   "source": [
    "model.get_structure(format=\"poscar\",path=\"/work/bansil/s.sevim/Test/espresso-machine/Structures/MnTe.poscar\")"
   ]
  },
  {
   "cell_type": "code",
   "execution_count": 5,
   "metadata": {},
   "outputs": [],
   "source": [
    "model.set_cores(64)\n",
    "model.ecutwfc(100) #Set wavefunction cutoff\n",
    "model.ecutrho(1000) #Set wavefunction cutoff\n",
    "model.k_points([8,8,5]) #Set number of k points\n",
    "model.degauss(0.01) #Set degauss value\n",
    "model.conv_thr(1e-6) #Set convergence threshold\n",
    "model.smearing('mv')\n",
    "model.electron_maxstep(500) #Max number of electron iteration\n",
    "model.exchange_maxstep(500) #Max number of exchange iteration\n",
    "model.hubbard(atom='Mn',orbital='3d',value=4)\n",
    "# model.etot_conv_thr(10**-4)\n",
    "# model.forc_conv_thr(10**-3)"
   ]
  },
  {
   "cell_type": "code",
   "execution_count": 6,
   "metadata": {},
   "outputs": [],
   "source": [
    "points = [\n",
    "            ['GAMMA',0,0,0],\n",
    "            ['M',0.5,0,0],\n",
    "            [\"M'\",0.5,0,0.35],\n",
    "            [\"GAMMA'\",0,0,0.35],\n",
    "            [\"K\",0.33333,0.3333,0]\n",
    "            ]"
   ]
  },
  {
   "cell_type": "code",
   "execution_count": 7,
   "metadata": {},
   "outputs": [],
   "source": [
    "import copy\n",
    "import numpy as np"
   ]
  },
  {
   "cell_type": "code",
   "execution_count": 8,
   "metadata": {},
   "outputs": [],
   "source": [
    "models = []\n",
    "strain = np.arange(0.96,1.045,0.005)\n",
    "for i in strain:\n",
    "    temp_model = copy.deepcopy(model)\n",
    "    temp_model.strain(axis=['z'],value=i)\n",
    "    models.append(temp_model)"
   ]
  },
  {
   "cell_type": "code",
   "execution_count": 9,
   "metadata": {},
   "outputs": [],
   "source": [
    "def workflow(model,id):\n",
    "    afm = model.magnetize(magnetic_atom='Mn',angle1=90,angle2=120)[1]    \n",
    "    afm.soc()\n",
    "    afm.job_id = f\"strain_z_{id}\"\n",
    "    afm.calculate('scf')\n",
    "    path = ['K','GAMMA','K'] #choose corners\n",
    "    afm.band_points(path,number=50,points=points) #define path\n",
    "    afm.calculate('bands',pp_core=8)\n",
    "    a = round(float(model.cell()[0][0]),3)\n",
    "    ac = round(float(model.cell()[2][2])/float(model.cell()[0][0]),3)\n",
    "    epsilon = round(1-id,3)\n",
    "    afm.plot('electron',ylim=[9,13],save=True,figsize=(4,6),save_name='plot_KGK',title=fr\"$\\epsilon$={epsilon} c={c} a/c={ac}\") #plot electron bands\n",
    "    path = ['M','GAMMA','M'] #choose corners\n",
    "    afm.band_points(path,number=50,points=points) #define path\n",
    "    afm.calculate('bands',pp_core=8)\n",
    "    afm.plot('electron',ylim=[9,13],save=True,figsize=(4,6),save_name='plot_MGM',title=fr\"$\\epsilon$={epsilon} c={c} a/c={ac}\") #plot electron bands\n",
    "    # path = [\"M'\",\"GAMMA'\",\"M'\"] #choose corners\n",
    "    # afm.band_points(path,number=100,points=points,save_name='plot_MGM') #define path\n",
    "    # afm.calculate('bands',pp_core=32)"
   ]
  },
  {
   "cell_type": "code",
   "execution_count": 10,
   "metadata": {},
   "outputs": [
    {
     "name": "stdout",
     "output_type": "stream",
     "text": [
      "scf for strain_0.96 is started\n",
      "scf for strain_0.96 is finished\n",
      "bands for strain_0.96 is started\n",
      "bands for strain_0.96 is finished\n",
      "bands-pp for strain_0.96 is started\n",
      "bands-pp for strain_0.96 is finished\n",
      "bands for strain_0.96 is started\n"
     ]
    }
   ],
   "source": [
    "for i,model in enumerate(models):\n",
    "    workflow(model,strain[i])"
   ]
  },
  {
   "cell_type": "code",
   "execution_count": null,
   "metadata": {},
   "outputs": [],
   "source": []
  },
  {
   "cell_type": "code",
   "execution_count": null,
   "metadata": {},
   "outputs": [],
   "source": []
  }
 ],
 "metadata": {
  "kernelspec": {
   "display_name": ".venv",
   "language": "python",
   "name": "python3"
  },
  "language_info": {
   "codemirror_mode": {
    "name": "ipython",
    "version": 3
   },
   "file_extension": ".py",
   "mimetype": "text/x-python",
   "name": "python",
   "nbconvert_exporter": "python",
   "pygments_lexer": "ipython3",
   "version": "3.12.4"
  },
  "orig_nbformat": 4
 },
 "nbformat": 4,
 "nbformat_minor": 2
}
