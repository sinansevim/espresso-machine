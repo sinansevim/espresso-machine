{
 "cells": [
  {
   "cell_type": "code",
   "execution_count": null,
   "metadata": {},
   "outputs": [],
   "source": [
    "import src as esma #Import library"
   ]
  },
  {
   "cell_type": "code",
   "execution_count": null,
   "metadata": {},
   "outputs": [],
   "source": [
    "#Initialize model\n",
    "model = esma.project(project_id=\"Al\") #Define project\n",
    "model.set_cores(8) #Define number of prcessing cores\n",
    "model.get_structure(format='poscar') #Load structure\n",
    "model.get_primitive() #Get primitive cell\n",
    "model.ecutwfc(80) #Set wavefunction cutoff\n",
    "model.k_points(6) #Set number of k points\n",
    "model.set_pseudo('US')"
   ]
  },
  {
   "cell_type": "code",
   "execution_count": null,
   "metadata": {},
   "outputs": [],
   "source": [
    "#Crystal optimization\n",
    "model.calculate('vc-relax')"
   ]
  },
  {
   "cell_type": "code",
   "execution_count": null,
   "metadata": {},
   "outputs": [],
   "source": [
    "#Scf calculation\n",
    "model.get_structure('vc-relax') #Get relaxed strucutre\n",
    "model.calculate('scf')"
   ]
  },
  {
   "cell_type": "code",
   "execution_count": null,
   "metadata": {},
   "outputs": [],
   "source": [
    "#Bands calculation\n",
    "path = ['L','GAMMA','X','U','GAMMA'] #define corners\n",
    "num_points = 40 #number of points\n",
    "model.band_points(path,num_points) #define path\n",
    "model.calculate('bands')"
   ]
  },
  {
   "cell_type": "code",
   "execution_count": null,
   "metadata": {},
   "outputs": [],
   "source": [
    "#Band plotting\n",
    "model.plot('electron',ylim=[-5,30]) #plot electron bands"
   ]
  },
  {
   "cell_type": "code",
   "execution_count": null,
   "metadata": {},
   "outputs": [],
   "source": [
    "#Nscf calculation\n",
    "model.occupations('tetrahedra')\n",
    "model.nosym('false')\n",
    "model.k_points(20)\n",
    "model.calculate('nscf')"
   ]
  },
  {
   "cell_type": "code",
   "execution_count": null,
   "metadata": {},
   "outputs": [],
   "source": [
    "#Density of states calculation\n",
    "model.dos(emin=-5,emax=30)\n",
    "model.calculate('dos')"
   ]
  },
  {
   "cell_type": "code",
   "execution_count": null,
   "metadata": {},
   "outputs": [],
   "source": [
    "#DOS Plotting\n",
    "model.plot('dos',xlim=[-5,30]) #plot dos"
   ]
  },
  {
   "cell_type": "code",
   "execution_count": null,
   "metadata": {},
   "outputs": [],
   "source": [
    "#Calculate PDOS\n",
    "model.pdos(emin=-5,emax=30)\n",
    "model.calculate('pdos')"
   ]
  },
  {
   "cell_type": "code",
   "execution_count": null,
   "metadata": {},
   "outputs": [],
   "source": [
    "#Plot PDOS\n",
    "model.plot('pdos',xlim=[-5,30])"
   ]
  }
 ],
 "metadata": {
  "kernelspec": {
   "display_name": ".venv",
   "language": "python",
   "name": "python3"
  },
  "language_info": {
   "codemirror_mode": {
    "name": "ipython",
    "version": 3
   },
   "file_extension": ".py",
   "mimetype": "text/x-python",
   "name": "python",
   "nbconvert_exporter": "python",
   "pygments_lexer": "ipython3",
   "version": "3.10.12"
  }
 },
 "nbformat": 4,
 "nbformat_minor": 2
}
