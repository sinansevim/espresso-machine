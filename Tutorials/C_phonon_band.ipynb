{
 "cells": [
  {
   "cell_type": "code",
   "execution_count": null,
   "metadata": {},
   "outputs": [],
   "source": [
    "import src as esma #Import library"
   ]
  },
  {
   "cell_type": "code",
   "execution_count": null,
   "metadata": {},
   "outputs": [],
   "source": [
    "# Step 1 - Run ph.x\n",
    "model = esma.project(project_id=\"C\") #Initialize model\n",
    "model.set_cores(8) #Define number of processing cores\n",
    "model.set_calculation('ph') #Select calculation\n",
    "model.set_q(nq1=3,nq2=3,nq3=1) #Set parameters\n",
    "model.create_input() #Create input\n",
    "model.calculate() #Run calculation"
   ]
  },
  {
   "cell_type": "code",
   "execution_count": null,
   "metadata": {},
   "outputs": [],
   "source": [
    "#Step- 2 - Run q2r.x\n",
    "model.set_calculation('q2r') #Select calculation\n",
    "model.create_input() #Create input\n",
    "model.calculate() #Run calculation"
   ]
  },
  {
   "cell_type": "code",
   "execution_count": null,
   "metadata": {},
   "outputs": [],
   "source": [
    "#Step 3 - Run matdyn.x\n",
    "model.set_calculation('matdyn') #Select calculation\n",
    "path = ['GAMMA','M','K','GAMMA'] #Choose q path\n",
    "num_points = 200 # Number of q points\n",
    "model.set_path(path,num_points) #Set q path\n",
    "model.create_input() # Create input\n",
    "model.calculate() #Run calculation"
   ]
  },
  {
   "cell_type": "code",
   "execution_count": null,
   "metadata": {},
   "outputs": [],
   "source": [
    "#Step 4 - Plotting\n",
    "model.plot_phonon() # Plot phonon band"
   ]
  }
 ],
 "metadata": {
  "kernelspec": {
   "display_name": "Python 3",
   "language": "python",
   "name": "python3"
  },
  "language_info": {
   "codemirror_mode": {
    "name": "ipython",
    "version": 3
   },
   "file_extension": ".py",
   "mimetype": "text/x-python",
   "name": "python",
   "nbconvert_exporter": "python",
   "pygments_lexer": "ipython3",
   "version": "3.10.12"
  }
 },
 "nbformat": 4,
 "nbformat_minor": 2
}
