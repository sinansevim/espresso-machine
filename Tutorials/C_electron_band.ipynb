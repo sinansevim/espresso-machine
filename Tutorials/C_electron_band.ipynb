{
 "cells": [
  {
   "cell_type": "code",
   "execution_count": null,
   "metadata": {},
   "outputs": [],
   "source": [
    "import src as esma #Import library\n"
   ]
  },
  {
   "cell_type": "code",
   "execution_count": null,
   "metadata": {},
   "outputs": [],
   "source": [
    "#Step 1 - Initialize model\n",
    "model = esma.project(project_id=\"C\") #Initialize model\n",
    "model.set_cores(8) #Define number of processing cores\n",
    "model.get_structure(format='poscar') #Load structure\n",
    "model.ecutwfc(120) #Wavefunction cut-off\n",
    "model.k_points(8) #k mesh \n",
    "model.degauss(0.01) #degauss value\n",
    "model.conv_thr(\"1e-8\") #electron convergence threshold"
   ]
  },
  {
   "cell_type": "code",
   "execution_count": null,
   "metadata": {},
   "outputs": [],
   "source": [
    "#Step 2 - Crystal optimization\n",
    "model.vc_relax()"
   ]
  },
  {
   "cell_type": "code",
   "execution_count": null,
   "metadata": {},
   "outputs": [],
   "source": [
    "#Step 3 - Atomic optimization\n",
    "model.get_structure('vc-relax') #Get vc-relaxed strucutre\n",
    "model.make_layer(layer_type='mono') #mono layer \n",
    "model.k_points([8,8,1])\n",
    "model.relax()\n"
   ]
  },
  {
   "cell_type": "code",
   "execution_count": null,
   "metadata": {},
   "outputs": [],
   "source": [
    "#Step 4 - Scf calculation\n",
    "model.get_structure('relax') #Get relaxed strucutre\n",
    "model.scf()"
   ]
  },
  {
   "cell_type": "code",
   "execution_count": null,
   "metadata": {},
   "outputs": [],
   "source": [
    "#Step 5 - Bands calculation\n",
    "path = ['GAMMA','M','K','GAMMA'] #choose corners\n",
    "model.bands(path=path,num_points=40)"
   ]
  },
  {
   "cell_type": "code",
   "execution_count": null,
   "metadata": {},
   "outputs": [],
   "source": [
    "#Step 6 - Plotting\n",
    "model.plot_electron(ylim=[-10,10],save=True) #plot electron bands"
   ]
  }
 ],
 "metadata": {
  "kernelspec": {
   "display_name": "Python 3",
   "language": "python",
   "name": "python3"
  },
  "language_info": {
   "codemirror_mode": {
    "name": "ipython",
    "version": 3
   },
   "file_extension": ".py",
   "mimetype": "text/x-python",
   "name": "python",
   "nbconvert_exporter": "python",
   "pygments_lexer": "ipython3",
   "version": "3.10.12"
  }
 },
 "nbformat": 4,
 "nbformat_minor": 2
}
