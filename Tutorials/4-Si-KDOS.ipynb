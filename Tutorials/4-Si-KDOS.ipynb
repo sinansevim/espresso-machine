{
 "cells": [
  {
   "cell_type": "code",
   "execution_count": null,
   "metadata": {},
   "outputs": [],
   "source": [
    "import src as esma #Import library"
   ]
  },
  {
   "cell_type": "code",
   "execution_count": null,
   "metadata": {},
   "outputs": [],
   "source": [
    "#Initialize model\n",
    "model = esma.project(project_id=\"Si\") #Define project\n",
    "model.set_cores(8) #Define number of prcessing cores\n",
    "model.get_structure(format='vc-relax') #Get relaxed strucutre\n",
    "model.ecutwfc(80) #Set wavefunction cutoff\n",
    "model.set_pseudo(\"US\")"
   ]
  },
  {
   "cell_type": "code",
   "execution_count": null,
   "metadata": {},
   "outputs": [],
   "source": [
    "#Step 4 - Bands calculation\n",
    "path = ['L','GAMMA','X','K','GAMMA'] #define corners\n",
    "num_points = 100 #number of points\n",
    "model.band_points(path,num_points) #define path\n",
    "# model.calculate('bands')"
   ]
  },
  {
   "cell_type": "code",
   "execution_count": null,
   "metadata": {},
   "outputs": [],
   "source": [
    "#Calculate PDOS\n",
    "model.kdos(deltaE=0.005,ngauss=0)\n",
    "# model.calculate('kdos')"
   ]
  },
  {
   "cell_type": "code",
   "execution_count": null,
   "metadata": {},
   "outputs": [],
   "source": [
    "#PDOS Plotting\n",
    "model.plot('kdos') #plot kdos"
   ]
  }
 ],
 "metadata": {
  "kernelspec": {
   "display_name": ".venv",
   "language": "python",
   "name": "python3"
  },
  "language_info": {
   "codemirror_mode": {
    "name": "ipython",
    "version": 3
   },
   "file_extension": ".py",
   "mimetype": "text/x-python",
   "name": "python",
   "nbconvert_exporter": "python",
   "pygments_lexer": "ipython3",
   "version": "3.10.12"
  }
 },
 "nbformat": 4,
 "nbformat_minor": 2
}
