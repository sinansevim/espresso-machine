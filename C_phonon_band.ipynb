{
 "cells": [
  {
   "cell_type": "code",
   "execution_count": null,
   "metadata": {},
   "outputs": [],
   "source": [
    "from src import model"
   ]
  },
  {
   "cell_type": "code",
   "execution_count": null,
   "metadata": {},
   "outputs": [],
   "source": [
    "# Step 1 - Run ph.x\n",
    "ph = model.ph(project_id=\"C\") #Initialize model\n",
    "ph.set_calculation('ph') #Select calculation\n",
    "ph.set_q(nq1=4,nq2=4,nq3=1) #Set parameters\n",
    "ph.create_input() #Create input\n",
    "# ph.calculate(8) #Run calculation"
   ]
  },
  {
   "cell_type": "code",
   "execution_count": null,
   "metadata": {},
   "outputs": [],
   "source": [
    "#Step- 2 - Run q2r.x\n",
    "ph.set_calculation('q2r') #Select calculation\n",
    "ph.create_input() #Create input\n",
    "ph.calculate() #Run calculation"
   ]
  },
  {
   "cell_type": "code",
   "execution_count": null,
   "metadata": {},
   "outputs": [],
   "source": [
    "#Step 3 - Run matdyn.x\n",
    "ph.set_calculation('matdyn') #Select calculation\n",
    "path = ['GAMMA','M','K','GAMMA'] #Choose q path\n",
    "num_points = 200 # Number of q points\n",
    "ph.set_path(path,num_points) #Set q path\n",
    "ph.create_input() # Create input\n",
    "ph.calculate() #Run calculation"
   ]
  },
  {
   "cell_type": "code",
   "execution_count": null,
   "metadata": {},
   "outputs": [],
   "source": [
    "#Step 4 - Plotting\n",
    "ph.plot() # Plot phonon band"
   ]
  }
 ],
 "metadata": {
  "kernelspec": {
   "display_name": "Python 3",
   "language": "python",
   "name": "python3"
  },
  "language_info": {
   "codemirror_mode": {
    "name": "ipython",
    "version": 3
   },
   "file_extension": ".py",
   "mimetype": "text/x-python",
   "name": "python",
   "nbconvert_exporter": "python",
   "pygments_lexer": "ipython3",
   "version": "3.10.12"
  }
 },
 "nbformat": 4,
 "nbformat_minor": 2
}
