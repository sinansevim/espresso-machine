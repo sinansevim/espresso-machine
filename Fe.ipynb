{
 "cells": [
  {
   "cell_type": "code",
   "execution_count": 1,
   "metadata": {},
   "outputs": [],
   "source": [
    "import src as esma #Import library\n",
    "num_core = 8 #Define number of cores"
   ]
  },
  {
   "cell_type": "code",
   "execution_count": 2,
   "metadata": {},
   "outputs": [],
   "source": [
    "model = esma.pw(project_id='Fe')"
   ]
  },
  {
   "cell_type": "code",
   "execution_count": 3,
   "metadata": {},
   "outputs": [],
   "source": [
    "model.get_structure(format='poscar')"
   ]
  },
  {
   "cell_type": "code",
   "execution_count": 4,
   "metadata": {},
   "outputs": [
    {
     "data": {
      "text/plain": [
       "{'control': {'pseudo_dir': './pseudos/NC'},\n",
       " 'system': {'degauss': '0.1', 'ecutwfc': '20', 'occupations': 'smearing'},\n",
       " 'electrons': {'conv_thr': '1e-6'},\n",
       " 'ions': {},\n",
       " 'cell': {},\n",
       " 'k_points': '1 1 1 0 0 0',\n",
       " 'cell_parameters': [['2.8630354989499160',\n",
       "   '0.0000000000000000',\n",
       "   '0.0000000000000002'],\n",
       "  ['0.0000000000000005', '2.8630354989499160', '0.0000000000000002'],\n",
       "  ['0.0000000000000000', '0.0000000000000000', '2.8630354989499160']],\n",
       " 'atomic_positions': [['Fe',\n",
       "   '0.0000000000000000',\n",
       "   '0.0000000000000000',\n",
       "   '0.0000000000000000'],\n",
       "  ['Fe', '0.5000000000000000', '0.5000000000000000', '0.5000000000000000']],\n",
       " 'atomic_species': [{'atom': 'Fe',\n",
       "   'mass': '55.93493633',\n",
       "   'pseudopotential': 'Fe.UPF'}]}"
      ]
     },
     "execution_count": 4,
     "metadata": {},
     "output_type": "execute_result"
    }
   ],
   "source": [
    "model.config"
   ]
  },
  {
   "cell_type": "code",
   "execution_count": 5,
   "metadata": {},
   "outputs": [],
   "source": [
    "afm_models = model.make_afm('Fe')"
   ]
  },
  {
   "cell_type": "code",
   "execution_count": 6,
   "metadata": {},
   "outputs": [
    {
     "data": {
      "text/plain": [
       "'Number of AFM states can be changing depending on the number of magnetic atoms. The number of magnetic atoms should be divided\\n into two for spin up and down. Total magnetism is going to be zero but the order of spins are going to be change.'"
      ]
     },
     "execution_count": 6,
     "metadata": {},
     "output_type": "execute_result"
    }
   ],
   "source": [
    "#1 - Give initial model\n",
    "#2 - Define magnetic atom\n",
    "#3 - Return magnetic states\n",
    "#4 - FM and AFM\n",
    "\n",
    "'''FM is easier to do. Only starting magnetization parameter should be added for the relevent atom'''\n",
    "'''Number of AFM states can be changing depending on the number of magnetic atoms. The number of magnetic atoms should be divided\n",
    " into two for spin up and down. Total magnetism is going to be zero but the order of spins are going to be change.'''"
   ]
  },
  {
   "cell_type": "code",
   "execution_count": 7,
   "metadata": {
    "vscode": {
     "languageId": "shellscript"
    }
   },
   "outputs": [],
   "source": [
    "for state in afm_models:\n",
    "    #Adjust parameters\n",
    "    state.ecutwfc(120) #Set wavefunction cutoff\n",
    "    state.k_points(6) #Set number of k points\n",
    "    state.degauss(0.01) #Set degauss value\n",
    "    state.conv_thr(1e-8) #Set convergence threshold\n",
    "    state.set_pseudo(\"US/\")\n",
    "    state.config['system']['ecutrho']=800"
   ]
  },
  {
   "cell_type": "code",
   "execution_count": 8,
   "metadata": {},
   "outputs": [
    {
     "data": {
      "text/plain": [
       "{'control': {'pseudo_dir': './pseudos/US/'},\n",
       " 'system': {'degauss': 0.01,\n",
       "  'ecutwfc': 120,\n",
       "  'occupations': 'smearing',\n",
       "  'starting_magnetization(1)': 1,\n",
       "  'nspin': 2,\n",
       "  'starting_magnetization(2)': -1,\n",
       "  'ecutrho': 800},\n",
       " 'electrons': {'conv_thr': 1e-08},\n",
       " 'ions': {},\n",
       " 'cell': {},\n",
       " 'k_points': '6 6 6 0 0 0',\n",
       " 'cell_parameters': [['2.8630354989499160',\n",
       "   '0.0000000000000000',\n",
       "   '0.0000000000000002'],\n",
       "  ['0.0000000000000005', '2.8630354989499160', '0.0000000000000002'],\n",
       "  ['0.0000000000000000', '0.0000000000000000', '2.8630354989499160']],\n",
       " 'atomic_positions': [['Fe1',\n",
       "   '0.0000000000000000',\n",
       "   '0.0000000000000000',\n",
       "   '0.0000000000000000'],\n",
       "  ['Fe0', '0.5000000000000000', '0.5000000000000000', '0.5000000000000000']],\n",
       " 'atomic_species': [{'atom': 'Fe1',\n",
       "   'mass': '55.93493633',\n",
       "   'pseudopotential': 'Fe.UPF'},\n",
       "  {'atom': 'Fe0', 'mass': '55.93493633', 'pseudopotential': 'Fe.UPF'}]}"
      ]
     },
     "execution_count": 8,
     "metadata": {},
     "output_type": "execute_result"
    }
   ],
   "source": [
    "afm_models[0].config"
   ]
  },
  {
   "cell_type": "code",
   "execution_count": 9,
   "metadata": {},
   "outputs": [
    {
     "name": "stdout",
     "output_type": "stream",
     "text": [
      "vc-relax is finished\n"
     ]
    }
   ],
   "source": [
    "#Crystal optimization\n",
    "afm_models[0].vc_relax(num_core)"
   ]
  },
  {
   "cell_type": "code",
   "execution_count": null,
   "metadata": {},
   "outputs": [],
   "source": [
    "#Scf calculation\n",
    "afm_models[0].scf(num_core)"
   ]
  }
 ],
 "metadata": {
  "kernelspec": {
   "display_name": "Python 3",
   "language": "python",
   "name": "python3"
  },
  "language_info": {
   "codemirror_mode": {
    "name": "ipython",
    "version": 3
   },
   "file_extension": ".py",
   "mimetype": "text/x-python",
   "name": "python",
   "nbconvert_exporter": "python",
   "pygments_lexer": "ipython3",
   "version": "3.10.12"
  }
 },
 "nbformat": 4,
 "nbformat_minor": 2
}
