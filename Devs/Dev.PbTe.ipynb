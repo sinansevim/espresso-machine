{
 "cells": [
  {
   "cell_type": "code",
   "execution_count": null,
   "metadata": {},
   "outputs": [],
   "source": [
    "from src import esma"
   ]
  },
  {
   "cell_type": "code",
   "execution_count": 2,
   "metadata": {},
   "outputs": [],
   "source": [
    "def init_model():\n",
    "    model = esma.project(project_id='PbTe')\n",
    "    model.set_pseudo(path=\"/scratch/s.sevim/espresso-machine/Pseudopotentials/PBE/PAW\")\n",
    "    model.get_structure(format=\"poscar\",path=\"/scratch/s.sevim/espresso-machine/Structures/PbTe.poscar\")\n",
    "    model.set_cores(64)\n",
    "    model.ecutwfc(100) #Set wavefunction cutoff\n",
    "    model.ecutrho(600) #Set wavefunction cutoff\n",
    "    model.k_points([12,12,1]) #Set number of k points\n",
    "    model.degauss(0.01) #Set degauss value\n",
    "    model.conv_thr(1e-8) #Set convergence threshold\n",
    "    model.smearing('fd')\n",
    "    model.electron_maxstep(500) #Max number of electron iteration\n",
    "    model.exchange_maxstep(500) #Max number of exchange iteration\n",
    "    model.etot_conv_thr(10**-6)\n",
    "    model.forc_conv_thr(10**-5)\n",
    "    model.mixing_mode('local-TF')\n",
    "    return model"
   ]
  },
  {
   "cell_type": "code",
   "execution_count": 3,
   "metadata": {},
   "outputs": [],
   "source": [
    "model = init_model()"
   ]
  },
  {
   "cell_type": "code",
   "execution_count": 4,
   "metadata": {},
   "outputs": [],
   "source": [
    "model.cell_dof('2Dxy') #Fix cell relaxation to 2D"
   ]
  },
  {
   "cell_type": "code",
   "execution_count": 5,
   "metadata": {},
   "outputs": [
    {
     "name": "stdout",
     "output_type": "stream",
     "text": [
      "Starting relax iteration 1 \n",
      "relax for results is started\n",
      "relax for results is finished\n",
      "relax is converged after 1 steps\n"
     ]
    }
   ],
   "source": [
    "model.optimize('relax')"
   ]
  },
  {
   "cell_type": "code",
   "execution_count": 6,
   "metadata": {},
   "outputs": [
    {
     "name": "stdout",
     "output_type": "stream",
     "text": [
      "Starting vc-relax iteration 1 \n",
      "vc-relax for results is started\n",
      "vc-relax for results is finished\n",
      "vc-relax is converged after 1 steps\n"
     ]
    }
   ],
   "source": [
    "model.optimize('vc-relax')"
   ]
  },
  {
   "cell_type": "code",
   "execution_count": 7,
   "metadata": {},
   "outputs": [
    {
     "name": "stdout",
     "output_type": "stream",
     "text": [
      "Starting relax iteration 1 \n",
      "relax for results is started\n",
      "relax for results is finished\n",
      "relax is converged after 1 steps\n"
     ]
    }
   ],
   "source": [
    "model.optimize('relax')"
   ]
  },
  {
   "cell_type": "code",
   "execution_count": 8,
   "metadata": {},
   "outputs": [],
   "source": [
    "model.k_points([36,36,1]) #Set number of k points\n",
    "model.conv_thr(1e-12) #Set convergence threshold\n",
    "model.ph_thr(1e-16) #Set convergence threshold\n"
   ]
  },
  {
   "cell_type": "code",
   "execution_count": 9,
   "metadata": {},
   "outputs": [
    {
     "name": "stdout",
     "output_type": "stream",
     "text": [
      "scf for results is started\n",
      "scf for results is finished\n",
      "ph for results is started\n"
     ]
    }
   ],
   "source": [
    "model.calculate('scf')\n",
    "model.set_q(nq1=12,nq2=12,nq3=1) #Set parameters\n",
    "model.calculate('ph')"
   ]
  },
  {
   "cell_type": "code",
   "execution_count": null,
   "metadata": {},
   "outputs": [],
   "source": [
    "model.calculate('q2r') #Run calculation\n",
    "path = ['GAMMA','M',\"K\",\"GAMMA\"] #define corners\n",
    "model.band_points(path,number=50) #define path\n",
    "model.calculate('bands')\n",
    "model.plot('electron',ylim=[-3,3],save=True) #plot electron bands\n",
    "\n",
    "num_points = 200 # Number of q points\n",
    "model.calculate(\"matdyn\") #Run calculation\n",
    "model.plot('phonon',save=True) # Plot phonon band"
   ]
  }
 ],
 "metadata": {
  "kernelspec": {
   "display_name": ".venv",
   "language": "python",
   "name": "python3"
  },
  "language_info": {
   "codemirror_mode": {
    "name": "ipython",
    "version": 3
   },
   "file_extension": ".py",
   "mimetype": "text/x-python",
   "name": "python",
   "nbconvert_exporter": "python",
   "pygments_lexer": "ipython3",
   "version": "3.12.4"
  },
  "orig_nbformat": 4
 },
 "nbformat": 4,
 "nbformat_minor": 2
}
