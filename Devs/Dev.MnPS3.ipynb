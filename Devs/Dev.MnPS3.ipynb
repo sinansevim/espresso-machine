{
 "cells": [
  {
   "cell_type": "code",
   "execution_count": 1,
   "metadata": {},
   "outputs": [],
   "source": [
    "from src import esma"
   ]
  },
  {
   "cell_type": "code",
   "execution_count": 8,
   "metadata": {},
   "outputs": [],
   "source": [
    "def init_model():\n",
    "    model = esma.project(project_id='MnPS3')\n",
    "    model.set_pseudo(path=\"/scratch/s.sevim/espresso-machine/Pseudopotentials/PBE/US\")\n",
    "    model.get_structure(format=\"poscar\",path=\"/scratch/s.sevim/espresso-machine/Structures/MnPS3.poscar\")\n",
    "    model.set_cores(64)\n",
    "    model.ecutwfc(100) #Set wavefunction cutoff\n",
    "    model.ecutrho(1000) #Set wavefunction cutoff\n",
    "    model.k_points([6,3,5]) #Set number of k points\n",
    "    model.degauss(0.02) #Set degauss value\n",
    "    model.conv_thr(1e-6) #Set convergence threshold\n",
    "    model.smearing('mv')\n",
    "    model.mixing_beta(0.2)\n",
    "    model.electron_maxstep(500) #Max number of electron iteration\n",
    "    model.exchange_maxstep(500) #Max number of exchange iteration\n",
    "    model.hubbard(atom='Mn',orbital='3d',value=3)\n",
    "    return model"
   ]
  },
  {
   "cell_type": "code",
   "execution_count": 9,
   "metadata": {},
   "outputs": [
    {
     "ename": "SyntaxError",
     "evalue": "expected ':' (2191872804.py, line 1)",
     "output_type": "error",
     "traceback": [
      "\u001b[0;36m  Cell \u001b[0;32mIn[9], line 1\u001b[0;36m\u001b[0m\n\u001b[0;31m    def run_model()\u001b[0m\n\u001b[0m                   ^\u001b[0m\n\u001b[0;31mSyntaxError\u001b[0m\u001b[0;31m:\u001b[0m expected ':'\n"
     ]
    }
   ],
   "source": [
    "def run_model():\n",
    "    energies={}\n",
    "    for theta in [0,90]:\n",
    "        for phi in [0,90,180]:\n",
    "            model=init_model()\n",
    "            models = model.magnetize(magnetic_atom='Mn',angle1=theta,angle2=phi)\n",
    "            for j,state in enumerate(models):\n",
    "                state.job_id=f\"state_{j}_{theta}_{phi}\"\n",
    "                try:\n",
    "                    state.calculate('scf')\n",
    "                    energies[f\"theta_pi_j\"] = state.energy()\n",
    "                except:\n",
    "                    print(theta,phi,state,\"error\")\n"
   ]
  }
 ],
 "metadata": {
  "kernelspec": {
   "display_name": "Python 3",
   "language": "python",
   "name": "python3"
  },
  "language_info": {
   "codemirror_mode": {
    "name": "ipython",
    "version": 3
   },
   "file_extension": ".py",
   "mimetype": "text/x-python",
   "name": "python",
   "nbconvert_exporter": "python",
   "pygments_lexer": "ipython3",
   "version": "3.12.4"
  }
 },
 "nbformat": 4,
 "nbformat_minor": 2
}
